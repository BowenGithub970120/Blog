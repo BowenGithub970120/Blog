{
 "cells": [
  {
   "cell_type": "code",
   "execution_count": 1,
   "metadata": {},
   "outputs": [],
   "source": [
    "%load_ext autoreload\n",
    "%autoreload 2\n",
    "\n",
    "import pandas as pd\n",
    "import numpy as np "
   ]
  },
  {
   "cell_type": "markdown",
   "metadata": {},
   "source": [
    "### 时间系列特征衍生\n",
    "\n",
    "1、分类模型发现时间序列的特征重要性比较高，\n",
    "进一步迭代运用回归模型预测时间序列特征---\n",
    "重要特征 C1_pred_incre(mean,var,value),X_pred_var(sum),X3,X1,X4.\n",
    "\n",
    "2、 对预测特征进一步加工衍生新的特征组；"
   ]
  },
  {
   "cell_type": "code",
   "execution_count": 2,
   "metadata": {
    "scrolled": true
   },
   "outputs": [
    {
     "name": "stdout",
     "output_type": "stream",
     "text": [
      "(152892, 1214)\n"
     ]
    },
    {
     "data": {
      "text/html": [
       "<div>\n",
       "<style scoped>\n",
       "    .dataframe tbody tr th:only-of-type {\n",
       "        vertical-align: middle;\n",
       "    }\n",
       "\n",
       "    .dataframe tbody tr th {\n",
       "        vertical-align: top;\n",
       "    }\n",
       "\n",
       "    .dataframe thead th {\n",
       "        text-align: right;\n",
       "    }\n",
       "</style>\n",
       "<table border=\"1\" class=\"dataframe\">\n",
       "  <thead>\n",
       "    <tr style=\"text-align: right;\">\n",
       "      <th></th>\n",
       "      <th>cust_no</th>\n",
       "      <th>lastq_I1</th>\n",
       "      <th>lastq_I2</th>\n",
       "      <th>lastq_I3</th>\n",
       "      <th>lastq_I4</th>\n",
       "      <th>lastq_I5</th>\n",
       "      <th>lastq_I6</th>\n",
       "      <th>lastq_I8</th>\n",
       "      <th>lastq_I10</th>\n",
       "      <th>lastq_I11</th>\n",
       "      <th>...</th>\n",
       "      <th>X_tou_incre / C1_divide_C2</th>\n",
       "      <th>lastq_B6_hour * X_sec_sum</th>\n",
       "      <th>lastq_C1_divide_lastq_C2 / C1_divide_C2_y</th>\n",
       "      <th>lastq_C1_incre / X_qq_cun_incre_mean_y</th>\n",
       "      <th>lastq_C1_sec * lastq_C1_std1mean</th>\n",
       "      <th>lastq_C1_sec / X_qq_cun_incre_mean</th>\n",
       "      <th>lastq_C1_sec / X_sec_sum</th>\n",
       "      <th>lastq_C1_std1mean / C1_std1mean_y</th>\n",
       "      <th>lastq_X3_std1mean / X3_incre_mean</th>\n",
       "      <th>lastq_X_cun_incre_v4 / X_qq_cun_incre_mean</th>\n",
       "    </tr>\n",
       "  </thead>\n",
       "  <tbody>\n",
       "    <tr>\n",
       "      <th>0</th>\n",
       "      <td>0x3b9acb2b</td>\n",
       "      <td>男性</td>\n",
       "      <td>42.0</td>\n",
       "      <td>普通客户</td>\n",
       "      <td>0.0</td>\n",
       "      <td>NaN</td>\n",
       "      <td>1.0</td>\n",
       "      <td>天蝎座</td>\n",
       "      <td>NaN</td>\n",
       "      <td>0.0</td>\n",
       "      <td>...</td>\n",
       "      <td>NaN</td>\n",
       "      <td>22549540.4</td>\n",
       "      <td>0.920045</td>\n",
       "      <td>1.194786</td>\n",
       "      <td>33470.122224</td>\n",
       "      <td>-1.542867e+04</td>\n",
       "      <td>0.004037</td>\n",
       "      <td>0.993647</td>\n",
       "      <td>-33.025681</td>\n",
       "      <td>0.71186</td>\n",
       "    </tr>\n",
       "    <tr>\n",
       "      <th>1</th>\n",
       "      <td>0x3b9acc6c</td>\n",
       "      <td>女性</td>\n",
       "      <td>37.0</td>\n",
       "      <td>普通客户</td>\n",
       "      <td>0.0</td>\n",
       "      <td>NaN</td>\n",
       "      <td>1.0</td>\n",
       "      <td>天秤座</td>\n",
       "      <td>NaN</td>\n",
       "      <td>0.0</td>\n",
       "      <td>...</td>\n",
       "      <td>NaN</td>\n",
       "      <td>NaN</td>\n",
       "      <td>0.999041</td>\n",
       "      <td>1.339172</td>\n",
       "      <td>8736.139078</td>\n",
       "      <td>2.546472e+06</td>\n",
       "      <td>0.999032</td>\n",
       "      <td>0.999865</td>\n",
       "      <td>14821.363855</td>\n",
       "      <td>0.00000</td>\n",
       "    </tr>\n",
       "  </tbody>\n",
       "</table>\n",
       "<p>2 rows × 1214 columns</p>\n",
       "</div>"
      ],
      "text/plain": [
       "      cust_no lastq_I1  lastq_I2 lastq_I3  lastq_I4 lastq_I5  lastq_I6  \\\n",
       "0  0x3b9acb2b       男性      42.0     普通客户       0.0      NaN       1.0   \n",
       "1  0x3b9acc6c       女性      37.0     普通客户       0.0      NaN       1.0   \n",
       "\n",
       "  lastq_I8 lastq_I10  lastq_I11  ... X_tou_incre / C1_divide_C2  \\\n",
       "0      天蝎座       NaN        0.0  ...                        NaN   \n",
       "1      天秤座       NaN        0.0  ...                        NaN   \n",
       "\n",
       "  lastq_B6_hour * X_sec_sum  lastq_C1_divide_lastq_C2 / C1_divide_C2_y  \\\n",
       "0                22549540.4                                   0.920045   \n",
       "1                       NaN                                   0.999041   \n",
       "\n",
       "   lastq_C1_incre / X_qq_cun_incre_mean_y  lastq_C1_sec * lastq_C1_std1mean  \\\n",
       "0                                1.194786                      33470.122224   \n",
       "1                                1.339172                       8736.139078   \n",
       "\n",
       "   lastq_C1_sec / X_qq_cun_incre_mean  lastq_C1_sec / X_sec_sum  \\\n",
       "0                       -1.542867e+04                  0.004037   \n",
       "1                        2.546472e+06                  0.999032   \n",
       "\n",
       "   lastq_C1_std1mean / C1_std1mean_y  lastq_X3_std1mean / X3_incre_mean  \\\n",
       "0                           0.993647                         -33.025681   \n",
       "1                           0.999865                       14821.363855   \n",
       "\n",
       "   lastq_X_cun_incre_v4 / X_qq_cun_incre_mean  \n",
       "0                                     0.71186  \n",
       "1                                     0.00000  \n",
       "\n",
       "[2 rows x 1214 columns]"
      ]
     },
     "execution_count": 2,
     "metadata": {},
     "output_type": "execute_result"
    }
   ],
   "source": [
    "\n",
    "train_df = pd.read_pickle('./data/feature_select_fill2_v1_15W.pkl')\n",
    "print(train_df.shape)\n",
    "train_df.head(2)"
   ]
  },
  {
   "cell_type": "code",
   "execution_count": 4,
   "metadata": {},
   "outputs": [],
   "source": [
    "\n",
    "def data_train(df, category_list, model_type):\n",
    "\n",
    "    def to_category_or_num(df, category_list):\n",
    "        for ft in df.columns:\n",
    "            if ft in category_list:\n",
    "                df[ft] = df[ft].astype('category')\n",
    "            else:\n",
    "                df[ft] = pd.to_numeric(df[ft], errors='coerce')\n",
    "    \n",
    "    \n",
    "    # 训练集 预处理\n",
    "    train_df_x = df[df.label.notnull()].drop(['cust_q','label','cust_no'],axis=1)\n",
    "    to_category_or_num(train_df_x, category_list)\n",
    "\n",
    "    # 划分标签y，特征x\n",
    "    y = df[df.label.notnull()].label\n",
    "    x = train_df_x\n",
    "\n",
    "    #划分训练集，测试集\n",
    "    from sklearn.model_selection import train_test_split\n",
    "\n",
    "    train_x, test_x, train_y, test_y = train_test_split(x, y,test_size=0.2,random_state=0)\n",
    "    train_df_x.head()\n",
    "\n",
    "\n",
    "    # 评估\n",
    "    from sklearn.metrics import precision_score, recall_score, f1_score, accuracy_score,roc_curve,auc, cohen_kappa_score\n",
    "    def model_metrics(model, x, y):\n",
    "        yhat = model.predict(x)\n",
    "        result = {'accuracy_score':accuracy_score(y, yhat),\n",
    "                  'f1_score_macro': f1_score(y, yhat, average = \"macro\"),\n",
    "                  'precision':precision_score(y, yhat,average=\"macro\"),\n",
    "                  'recall':recall_score(y, yhat,average=\"macro\"),\n",
    "                  'kappa': cohen_kappa_score(y, yhat)\n",
    "                 }\n",
    "        return result\n",
    "\n",
    "    # 模型训练\n",
    "\n",
    "    from xgboost import XGBClassifier\n",
    "    from lightgbm import LGBMClassifier\n",
    "    from catboost import CatBoostClassifier\n",
    "    \n",
    "    if model_type == 'lgb':\n",
    "#         model = LGBMClassifier(bagging_fraction=0.7508393208895859, boosting_type='dart',\n",
    "#                    class_weight='balanced', colsample_bytree=1.0,\n",
    "#                    feature_fraction=0.7457350847503881, importance_type='split',\n",
    "#                    lambda_l1=0.7905165383698197, lambda_l2=0.7836020789275822,\n",
    "#                    learning_rate=0.28079595418448466, max_depth=10,\n",
    "#                    min_child_samples=20, min_child_weight=1.1485987882882098e-05,\n",
    "#                    min_data_in_leaf=5, min_split_gain=0.43016675319949704,\n",
    "#                    n_estimators=415, n_jobs=-1, num_class=3, num_leaves=448,\n",
    "#                    objective='multi:softprob', random_state=0, reg_alpha=0.0,\n",
    "#                    reg_lambda=0.0, silent=True, subsample=1.0,\n",
    "#                    subsample_for_bin=180000, subsample_freq=0, verbose=-1)\n",
    "        model = LGBMClassifier(bagging_fraction=0.3520071162862265, boosting='dart',\n",
    "               boosting_type='gbdt', class_weight='balanced',\n",
    "               colsample_bytree=1.0, feature_fraction=0.21860855317755723,\n",
    "               importance_type='split', lambda_l1=0.25916787591548507,\n",
    "               lambda_l2=0.07013352667143534, learning_rate=0.1344393208789723,\n",
    "               max_depth=16, min_child_samples=20,\n",
    "               min_child_weight=0.0003913820436320165, min_data_in_leaf=13,\n",
    "               min_split_gain=0.37158177312975155, n_estimators=980, n_jobs=-1,\n",
    "               num_leaves=1886, objective='multi:softprob', random_state=None,\n",
    "               reg_alpha=0.0, reg_lambda=0.0, silent=True, subsample=1.0,\n",
    "               subsample_for_bin=60000, subsample_freq=0, verbose=-1)\n",
    "\n",
    "    \n",
    "    elif model_type == 'xgb':\n",
    "        model = XGBClassifier(base_score=0.5, booster='gbtree', colsample_bylevel=1,\n",
    "              colsample_bynode=1, colsample_bytree=1, gamma=0,\n",
    "              learning_rate=0.1, max_delta_step=0, max_depth=6,\n",
    "              min_child_weight=1,n_estimators=500, n_jobs=-1,\n",
    "              objective='multi:softprob', random_state=0,\n",
    "              reg_alpha=1, reg_lambda=1, class_weight='balanced',\n",
    "              silent=True, subsample=1, verbosity=1)\n",
    "        \n",
    "    elif model_type == 'cgb':\n",
    "        model = CatBoostClassifier(auto_class_weights='Balanced',iterations=500, \n",
    "                                    max_depth=6,thread_count=-1,learning_rate=0.1,\n",
    "                                  cat_features=category_list,loss_function='MultiClass',silent=True)\n",
    "\n",
    "    model.fit(train_x, train_y)\n",
    "\n",
    "    \n",
    "    print('-'*30, 'train')\n",
    "    print(model_metrics(model, train_x, train_y))\n",
    "\n",
    "    print('-'*30, 'test')\n",
    "    print(model_metrics(model, test_x, test_y))\n",
    "    \n",
    "    if model_type == 'lgb':\n",
    "        # 重要特征\n",
    "        import matplotlib.pyplot as plt\n",
    "        from lightgbm import plot_importance,plot_tree\n",
    "\n",
    "        plot_importance(model, max_num_features=50,figsize=(10,20),importance_type='split')\n",
    "        plt.show()\n",
    "        feature_importance = pd.DataFrame({\n",
    "            'feature': model.booster_.feature_name(),\n",
    "            'gain': model.booster_.feature_importance('gain'),\n",
    "            'split': model.booster_.feature_importance('split')\n",
    "\n",
    "        }).sort_values('gain',ascending=False)\n",
    "        print(feature_importance[feature_importance.gain>0].values)\n",
    "    \n",
    "    return model,feature_importance"
   ]
  },
  {
   "cell_type": "code",
   "execution_count": 5,
   "metadata": {
    "collapsed": true
   },
   "outputs": [
    {
     "name": "stdout",
     "output_type": "stream",
     "text": [
      "[LightGBM] [Warning] boosting is set=dart, boosting_type=gbdt will be ignored. Current value: boosting=dart\n",
      "[LightGBM] [Warning] feature_fraction is set=0.21860855317755723, colsample_bytree=1.0 will be ignored. Current value: feature_fraction=0.21860855317755723\n",
      "[LightGBM] [Warning] min_data_in_leaf is set=13, min_child_samples=20 will be ignored. Current value: min_data_in_leaf=13\n",
      "[LightGBM] [Warning] lambda_l1 is set=0.25916787591548507, reg_alpha=0.0 will be ignored. Current value: lambda_l1=0.25916787591548507\n",
      "[LightGBM] [Warning] bagging_fraction is set=0.3520071162862265, subsample=1.0 will be ignored. Current value: bagging_fraction=0.3520071162862265\n",
      "[LightGBM] [Warning] lambda_l2 is set=0.07013352667143534, reg_lambda=0.0 will be ignored. Current value: lambda_l2=0.07013352667143534\n"
     ]
    },
    {
     "ename": "KeyboardInterrupt",
     "evalue": "",
     "output_type": "error",
     "traceback": [
      "\u001b[1;31m---------------------------------------------------------------------------\u001b[0m",
      "\u001b[1;31mKeyboardInterrupt\u001b[0m                         Traceback (most recent call last)",
      "\u001b[1;32m<ipython-input-5-e0970e27f74d>\u001b[0m in \u001b[0;36m<module>\u001b[1;34m\u001b[0m\n\u001b[0;32m      4\u001b[0m \u001b[1;31m# df2 0.4885031208035543,  df3 0.48464523617323363  df 0.4857794193101631\u001b[0m\u001b[1;33m\u001b[0m\u001b[1;33m\u001b[0m\u001b[1;33m\u001b[0m\u001b[0m\n\u001b[0;32m      5\u001b[0m \u001b[1;31m# train_df2 = pd.read_pickle('./data/raw_features_fill2_v1_15W.pkl')\u001b[0m\u001b[1;33m\u001b[0m\u001b[1;33m\u001b[0m\u001b[1;33m\u001b[0m\u001b[0m\n\u001b[1;32m----> 6\u001b[1;33m \u001b[0mmodel2\u001b[0m\u001b[1;33m,\u001b[0m\u001b[0mfeature_importance2\u001b[0m \u001b[1;33m=\u001b[0m \u001b[0mdata_train\u001b[0m\u001b[1;33m(\u001b[0m\u001b[0mtrain_df\u001b[0m\u001b[1;33m,\u001b[0m \u001b[0mcategory_list\u001b[0m\u001b[1;33m,\u001b[0m \u001b[1;34m'lgb'\u001b[0m\u001b[1;33m)\u001b[0m\u001b[1;33m\u001b[0m\u001b[1;33m\u001b[0m\u001b[0m\n\u001b[0m",
      "\u001b[1;32m<ipython-input-4-2c9e237b3686>\u001b[0m in \u001b[0;36mdata_train\u001b[1;34m(df, category_list, model_type)\u001b[0m\n\u001b[0;32m     81\u001b[0m                                   cat_features=category_list,loss_function='MultiClass',silent=True)\n\u001b[0;32m     82\u001b[0m \u001b[1;33m\u001b[0m\u001b[0m\n\u001b[1;32m---> 83\u001b[1;33m     \u001b[0mmodel\u001b[0m\u001b[1;33m.\u001b[0m\u001b[0mfit\u001b[0m\u001b[1;33m(\u001b[0m\u001b[0mtrain_x\u001b[0m\u001b[1;33m,\u001b[0m \u001b[0mtrain_y\u001b[0m\u001b[1;33m)\u001b[0m\u001b[1;33m\u001b[0m\u001b[1;33m\u001b[0m\u001b[0m\n\u001b[0m\u001b[0;32m     84\u001b[0m \u001b[1;33m\u001b[0m\u001b[0m\n\u001b[0;32m     85\u001b[0m \u001b[1;33m\u001b[0m\u001b[0m\n",
      "\u001b[1;32mD:\\ProgramData\\Anaconda3\\lib\\site-packages\\lightgbm\\sklearn.py\u001b[0m in \u001b[0;36mfit\u001b[1;34m(self, X, y, sample_weight, init_score, eval_set, eval_names, eval_sample_weight, eval_class_weight, eval_init_score, eval_metric, early_stopping_rounds, verbose, feature_name, categorical_feature, callbacks, init_model)\u001b[0m\n\u001b[0;32m    836\u001b[0m                                         \u001b[0mverbose\u001b[0m\u001b[1;33m=\u001b[0m\u001b[0mverbose\u001b[0m\u001b[1;33m,\u001b[0m \u001b[0mfeature_name\u001b[0m\u001b[1;33m=\u001b[0m\u001b[0mfeature_name\u001b[0m\u001b[1;33m,\u001b[0m\u001b[1;33m\u001b[0m\u001b[1;33m\u001b[0m\u001b[0m\n\u001b[0;32m    837\u001b[0m                                         \u001b[0mcategorical_feature\u001b[0m\u001b[1;33m=\u001b[0m\u001b[0mcategorical_feature\u001b[0m\u001b[1;33m,\u001b[0m\u001b[1;33m\u001b[0m\u001b[1;33m\u001b[0m\u001b[0m\n\u001b[1;32m--> 838\u001b[1;33m                                         callbacks=callbacks, init_model=init_model)\n\u001b[0m\u001b[0;32m    839\u001b[0m         \u001b[1;32mreturn\u001b[0m \u001b[0mself\u001b[0m\u001b[1;33m\u001b[0m\u001b[1;33m\u001b[0m\u001b[0m\n\u001b[0;32m    840\u001b[0m \u001b[1;33m\u001b[0m\u001b[0m\n",
      "\u001b[1;32mD:\\ProgramData\\Anaconda3\\lib\\site-packages\\lightgbm\\sklearn.py\u001b[0m in \u001b[0;36mfit\u001b[1;34m(self, X, y, sample_weight, init_score, group, eval_set, eval_names, eval_sample_weight, eval_class_weight, eval_init_score, eval_group, eval_metric, early_stopping_rounds, verbose, feature_name, categorical_feature, callbacks, init_model)\u001b[0m\n\u001b[0;32m    598\u001b[0m                               \u001b[0mevals_result\u001b[0m\u001b[1;33m=\u001b[0m\u001b[0mevals_result\u001b[0m\u001b[1;33m,\u001b[0m \u001b[0mfobj\u001b[0m\u001b[1;33m=\u001b[0m\u001b[0mself\u001b[0m\u001b[1;33m.\u001b[0m\u001b[0m_fobj\u001b[0m\u001b[1;33m,\u001b[0m \u001b[0mfeval\u001b[0m\u001b[1;33m=\u001b[0m\u001b[0mfeval\u001b[0m\u001b[1;33m,\u001b[0m\u001b[1;33m\u001b[0m\u001b[1;33m\u001b[0m\u001b[0m\n\u001b[0;32m    599\u001b[0m                               \u001b[0mverbose_eval\u001b[0m\u001b[1;33m=\u001b[0m\u001b[0mverbose\u001b[0m\u001b[1;33m,\u001b[0m \u001b[0mfeature_name\u001b[0m\u001b[1;33m=\u001b[0m\u001b[0mfeature_name\u001b[0m\u001b[1;33m,\u001b[0m\u001b[1;33m\u001b[0m\u001b[1;33m\u001b[0m\u001b[0m\n\u001b[1;32m--> 600\u001b[1;33m                               callbacks=callbacks, init_model=init_model)\n\u001b[0m\u001b[0;32m    601\u001b[0m \u001b[1;33m\u001b[0m\u001b[0m\n\u001b[0;32m    602\u001b[0m         \u001b[1;32mif\u001b[0m \u001b[0mevals_result\u001b[0m\u001b[1;33m:\u001b[0m\u001b[1;33m\u001b[0m\u001b[1;33m\u001b[0m\u001b[0m\n",
      "\u001b[1;32mD:\\ProgramData\\Anaconda3\\lib\\site-packages\\lightgbm\\engine.py\u001b[0m in \u001b[0;36mtrain\u001b[1;34m(params, train_set, num_boost_round, valid_sets, valid_names, fobj, feval, init_model, feature_name, categorical_feature, early_stopping_rounds, evals_result, verbose_eval, learning_rates, keep_training_booster, callbacks)\u001b[0m\n\u001b[0;32m    250\u001b[0m                                     evaluation_result_list=None))\n\u001b[0;32m    251\u001b[0m \u001b[1;33m\u001b[0m\u001b[0m\n\u001b[1;32m--> 252\u001b[1;33m         \u001b[0mbooster\u001b[0m\u001b[1;33m.\u001b[0m\u001b[0mupdate\u001b[0m\u001b[1;33m(\u001b[0m\u001b[0mfobj\u001b[0m\u001b[1;33m=\u001b[0m\u001b[0mfobj\u001b[0m\u001b[1;33m)\u001b[0m\u001b[1;33m\u001b[0m\u001b[1;33m\u001b[0m\u001b[0m\n\u001b[0m\u001b[0;32m    253\u001b[0m \u001b[1;33m\u001b[0m\u001b[0m\n\u001b[0;32m    254\u001b[0m         \u001b[0mevaluation_result_list\u001b[0m \u001b[1;33m=\u001b[0m \u001b[1;33m[\u001b[0m\u001b[1;33m]\u001b[0m\u001b[1;33m\u001b[0m\u001b[1;33m\u001b[0m\u001b[0m\n",
      "\u001b[1;32mD:\\ProgramData\\Anaconda3\\lib\\site-packages\\lightgbm\\basic.py\u001b[0m in \u001b[0;36mupdate\u001b[1;34m(self, train_set, fobj)\u001b[0m\n\u001b[0;32m   2370\u001b[0m             _safe_call(_LIB.LGBM_BoosterUpdateOneIter(\n\u001b[0;32m   2371\u001b[0m                 \u001b[0mself\u001b[0m\u001b[1;33m.\u001b[0m\u001b[0mhandle\u001b[0m\u001b[1;33m,\u001b[0m\u001b[1;33m\u001b[0m\u001b[1;33m\u001b[0m\u001b[0m\n\u001b[1;32m-> 2372\u001b[1;33m                 ctypes.byref(is_finished)))\n\u001b[0m\u001b[0;32m   2373\u001b[0m             \u001b[0mself\u001b[0m\u001b[1;33m.\u001b[0m\u001b[0m__is_predicted_cur_iter\u001b[0m \u001b[1;33m=\u001b[0m \u001b[1;33m[\u001b[0m\u001b[1;32mFalse\u001b[0m \u001b[1;32mfor\u001b[0m \u001b[0m_\u001b[0m \u001b[1;32min\u001b[0m \u001b[0mrange_\u001b[0m\u001b[1;33m(\u001b[0m\u001b[0mself\u001b[0m\u001b[1;33m.\u001b[0m\u001b[0m__num_dataset\u001b[0m\u001b[1;33m)\u001b[0m\u001b[1;33m]\u001b[0m\u001b[1;33m\u001b[0m\u001b[1;33m\u001b[0m\u001b[0m\n\u001b[0;32m   2374\u001b[0m             \u001b[1;32mreturn\u001b[0m \u001b[0mis_finished\u001b[0m\u001b[1;33m.\u001b[0m\u001b[0mvalue\u001b[0m \u001b[1;33m==\u001b[0m \u001b[1;36m1\u001b[0m\u001b[1;33m\u001b[0m\u001b[1;33m\u001b[0m\u001b[0m\n",
      "\u001b[1;31mKeyboardInterrupt\u001b[0m: "
     ]
    }
   ],
   "source": [
    "category_list = ['I1','I3','I5','I8','I10','I13','I14','lastq_I1','lastq_I3','lastq_I5','lastq_I8','lastq_I10','lastq_I13','lastq_I14'] \n",
    "# train_df3.loc[:,category_list] = train_df3.loc[:,category_list].fillna('-1')\n",
    "# data_train(train_df3, category_list, 'cgb')\n",
    "# df2 0.4885031208035543,  df3 0.48464523617323363  df 0.4857794193101631\n",
    "# train_df2 = pd.read_pickle('./data/raw_features_fill2_v1_15W.pkl')\n",
    "model2,feature_importance2 = data_train(train_df, category_list, 'lgb')"
   ]
  },
  {
   "cell_type": "code",
   "execution_count": 3,
   "metadata": {
    "collapsed": true
   },
   "outputs": [
    {
     "name": "stderr",
     "output_type": "stream",
     "text": [
      "D:\\ProgramData\\Anaconda3\\lib\\site-packages\\ipykernel_launcher.py:10: FutureWarning: Sorting because non-concatenation axis is not aligned. A future version\n",
      "of pandas will change to not sort by default.\n",
      "\n",
      "To accept the future behavior, pass 'sort=False'.\n",
      "\n",
      "To retain the current behavior and silence the warning, pass 'sort=True'.\n",
      "\n",
      "  # Remove the CWD from sys.path while we load stuff.\n"
     ]
    },
    {
     "name": "stdout",
     "output_type": "stream",
     "text": [
      "(1697932, 177)\n"
     ]
    },
    {
     "data": {
      "text/html": [
       "<div>\n",
       "<style scoped>\n",
       "    .dataframe tbody tr th:only-of-type {\n",
       "        vertical-align: middle;\n",
       "    }\n",
       "\n",
       "    .dataframe tbody tr th {\n",
       "        vertical-align: top;\n",
       "    }\n",
       "\n",
       "    .dataframe thead th {\n",
       "        text-align: right;\n",
       "    }\n",
       "</style>\n",
       "<table border=\"1\" class=\"dataframe\">\n",
       "  <thead>\n",
       "    <tr style=\"text-align: right;\">\n",
       "      <th></th>\n",
       "      <th>B1</th>\n",
       "      <th>B1_fir</th>\n",
       "      <th>B1_fir_y</th>\n",
       "      <th>B1_sec</th>\n",
       "      <th>B1_sec_y</th>\n",
       "      <th>B1_y</th>\n",
       "      <th>B2</th>\n",
       "      <th>B2_fir</th>\n",
       "      <th>B2_fir_y</th>\n",
       "      <th>B2_sec</th>\n",
       "      <th>...</th>\n",
       "      <th>X8_sec</th>\n",
       "      <th>X8_sec_y</th>\n",
       "      <th>X8_y</th>\n",
       "      <th>cust_no</th>\n",
       "      <th>cust_q</th>\n",
       "      <th>cust_q_y</th>\n",
       "      <th>label</th>\n",
       "      <th>label_y</th>\n",
       "      <th>valid</th>\n",
       "      <th>valid_y</th>\n",
       "    </tr>\n",
       "  </thead>\n",
       "  <tbody>\n",
       "    <tr>\n",
       "      <th>0</th>\n",
       "      <td>0.0</td>\n",
       "      <td>0.0</td>\n",
       "      <td>0.0</td>\n",
       "      <td>0.0</td>\n",
       "      <td>0.0</td>\n",
       "      <td>0.0</td>\n",
       "      <td>0.0</td>\n",
       "      <td>0.0</td>\n",
       "      <td>0.0</td>\n",
       "      <td>0.0</td>\n",
       "      <td>...</td>\n",
       "      <td>0.0</td>\n",
       "      <td>0.0</td>\n",
       "      <td>0.0</td>\n",
       "      <td>0x3b9acb25</td>\n",
       "      <td>q30x3b9acb25</td>\n",
       "      <td>q40x3b9acb25</td>\n",
       "      <td>NaN</td>\n",
       "      <td>NaN</td>\n",
       "      <td>NaN</td>\n",
       "      <td>NaN</td>\n",
       "    </tr>\n",
       "    <tr>\n",
       "      <th>1</th>\n",
       "      <td>0.0</td>\n",
       "      <td>0.0</td>\n",
       "      <td>0.0</td>\n",
       "      <td>0.0</td>\n",
       "      <td>0.0</td>\n",
       "      <td>0.0</td>\n",
       "      <td>0.0</td>\n",
       "      <td>0.0</td>\n",
       "      <td>0.0</td>\n",
       "      <td>0.0</td>\n",
       "      <td>...</td>\n",
       "      <td>0.0</td>\n",
       "      <td>0.0</td>\n",
       "      <td>0.0</td>\n",
       "      <td>0x3b9acb28</td>\n",
       "      <td>q30x3b9acb28</td>\n",
       "      <td>q40x3b9acb28</td>\n",
       "      <td>NaN</td>\n",
       "      <td>NaN</td>\n",
       "      <td>NaN</td>\n",
       "      <td>NaN</td>\n",
       "    </tr>\n",
       "    <tr>\n",
       "      <th>2</th>\n",
       "      <td>0.0</td>\n",
       "      <td>0.0</td>\n",
       "      <td>0.0</td>\n",
       "      <td>0.0</td>\n",
       "      <td>0.0</td>\n",
       "      <td>0.0</td>\n",
       "      <td>0.0</td>\n",
       "      <td>0.0</td>\n",
       "      <td>0.0</td>\n",
       "      <td>0.0</td>\n",
       "      <td>...</td>\n",
       "      <td>0.0</td>\n",
       "      <td>0.0</td>\n",
       "      <td>0.0</td>\n",
       "      <td>0x3b9acb2a</td>\n",
       "      <td>q30x3b9acb2a</td>\n",
       "      <td>q40x3b9acb2a</td>\n",
       "      <td>NaN</td>\n",
       "      <td>NaN</td>\n",
       "      <td>NaN</td>\n",
       "      <td>NaN</td>\n",
       "    </tr>\n",
       "    <tr>\n",
       "      <th>3</th>\n",
       "      <td>5.0</td>\n",
       "      <td>1.0</td>\n",
       "      <td>4.0</td>\n",
       "      <td>3.0</td>\n",
       "      <td>1.0</td>\n",
       "      <td>4.0</td>\n",
       "      <td>2.0</td>\n",
       "      <td>2.0</td>\n",
       "      <td>3.0</td>\n",
       "      <td>2.0</td>\n",
       "      <td>...</td>\n",
       "      <td>0.0</td>\n",
       "      <td>0.0</td>\n",
       "      <td>0.0</td>\n",
       "      <td>0x3b9acb2b</td>\n",
       "      <td>q30x3b9acb2b</td>\n",
       "      <td>q40x3b9acb2b</td>\n",
       "      <td>0.0</td>\n",
       "      <td>0.0</td>\n",
       "      <td>1.0</td>\n",
       "      <td>1.0</td>\n",
       "    </tr>\n",
       "    <tr>\n",
       "      <th>4</th>\n",
       "      <td>0.0</td>\n",
       "      <td>0.0</td>\n",
       "      <td>0.0</td>\n",
       "      <td>0.0</td>\n",
       "      <td>0.0</td>\n",
       "      <td>0.0</td>\n",
       "      <td>0.0</td>\n",
       "      <td>0.0</td>\n",
       "      <td>0.0</td>\n",
       "      <td>0.0</td>\n",
       "      <td>...</td>\n",
       "      <td>0.0</td>\n",
       "      <td>0.0</td>\n",
       "      <td>0.0</td>\n",
       "      <td>0x3b9acb2c</td>\n",
       "      <td>q30x3b9acb2c</td>\n",
       "      <td>q40x3b9acb2c</td>\n",
       "      <td>NaN</td>\n",
       "      <td>NaN</td>\n",
       "      <td>NaN</td>\n",
       "      <td>NaN</td>\n",
       "    </tr>\n",
       "  </tbody>\n",
       "</table>\n",
       "<p>5 rows × 177 columns</p>\n",
       "</div>"
      ],
      "text/plain": [
       "    B1  B1_fir  B1_fir_y  B1_sec  B1_sec_y  B1_y   B2  B2_fir  B2_fir_y  \\\n",
       "0  0.0     0.0       0.0     0.0       0.0   0.0  0.0     0.0       0.0   \n",
       "1  0.0     0.0       0.0     0.0       0.0   0.0  0.0     0.0       0.0   \n",
       "2  0.0     0.0       0.0     0.0       0.0   0.0  0.0     0.0       0.0   \n",
       "3  5.0     1.0       4.0     3.0       1.0   4.0  2.0     2.0       3.0   \n",
       "4  0.0     0.0       0.0     0.0       0.0   0.0  0.0     0.0       0.0   \n",
       "\n",
       "   B2_sec  ...  X8_sec  X8_sec_y  X8_y     cust_no        cust_q  \\\n",
       "0     0.0  ...     0.0       0.0   0.0  0x3b9acb25  q30x3b9acb25   \n",
       "1     0.0  ...     0.0       0.0   0.0  0x3b9acb28  q30x3b9acb28   \n",
       "2     0.0  ...     0.0       0.0   0.0  0x3b9acb2a  q30x3b9acb2a   \n",
       "3     2.0  ...     0.0       0.0   0.0  0x3b9acb2b  q30x3b9acb2b   \n",
       "4     0.0  ...     0.0       0.0   0.0  0x3b9acb2c  q30x3b9acb2c   \n",
       "\n",
       "       cust_q_y  label  label_y  valid  valid_y  \n",
       "0  q40x3b9acb25    NaN      NaN    NaN      NaN  \n",
       "1  q40x3b9acb28    NaN      NaN    NaN      NaN  \n",
       "2  q40x3b9acb2a    NaN      NaN    NaN      NaN  \n",
       "3  q40x3b9acb2b    0.0      0.0    1.0      1.0  \n",
       "4  q40x3b9acb2c    NaN      NaN    NaN      NaN  \n",
       "\n",
       "[5 rows x 177 columns]"
      ]
     },
     "execution_count": 3,
     "metadata": {},
     "output_type": "execute_result"
    }
   ],
   "source": [
    "# 拼接cust q1的y\n",
    "q1 = train_df[train_df.cust_q.str.contains('^q1'),~train_df.columns.str.contains('lastq')]\n",
    "q341_df = train_df[train_df.cust_q.str.contains('^q4')].merge(q1, how='inner',left_on='cust_no',right_on='cust_no',suffixes=('','_y') )\n",
    "\n",
    "print(q341_df.shape)\n",
    "q341_df.head()"
   ]
  },
  {
   "cell_type": "code",
   "execution_count": 1,
   "metadata": {
    "collapsed": true
   },
   "outputs": [
    {
     "ename": "NameError",
     "evalue": "name 'pd' is not defined",
     "output_type": "error",
     "traceback": [
      "\u001b[1;31m---------------------------------------------------------------------------\u001b[0m",
      "\u001b[1;31mNameError\u001b[0m                                 Traceback (most recent call last)",
      "\u001b[1;32m<ipython-input-1-6523e38c9767>\u001b[0m in \u001b[0;36m<module>\u001b[1;34m\u001b[0m\n\u001b[0;32m      5\u001b[0m \u001b[1;31m# train_df.to_csv('./data/q3q4_q4q1_raw_features_label.csv')\u001b[0m\u001b[1;33m\u001b[0m\u001b[1;33m\u001b[0m\u001b[1;33m\u001b[0m\u001b[0m\n\u001b[0;32m      6\u001b[0m \u001b[1;31m# train_df.to_pickle('./data/q3q4_q4q1_raw_features_label.pkl')\u001b[0m\u001b[1;33m\u001b[0m\u001b[1;33m\u001b[0m\u001b[1;33m\u001b[0m\u001b[0m\n\u001b[1;32m----> 7\u001b[1;33m \u001b[0mtrain_df\u001b[0m \u001b[1;33m=\u001b[0m \u001b[0mpd\u001b[0m\u001b[1;33m.\u001b[0m\u001b[0mread_csv\u001b[0m\u001b[1;33m(\u001b[0m\u001b[1;34m'./data/q3q4_q4q1_raw_features_label.csv'\u001b[0m\u001b[1;33m,\u001b[0m \u001b[0mindex_col\u001b[0m\u001b[1;33m=\u001b[0m\u001b[1;36m0\u001b[0m\u001b[1;33m)\u001b[0m\u001b[1;33m\u001b[0m\u001b[1;33m\u001b[0m\u001b[0m\n\u001b[0m\u001b[0;32m      8\u001b[0m \u001b[0mtrain_df\u001b[0m\u001b[1;33m.\u001b[0m\u001b[0mhead\u001b[0m\u001b[1;33m(\u001b[0m\u001b[1;33m)\u001b[0m\u001b[1;33m\u001b[0m\u001b[1;33m\u001b[0m\u001b[0m\n",
      "\u001b[1;31mNameError\u001b[0m: name 'pd' is not defined"
     ]
    }
   ],
   "source": [
    "import gc\n",
    "gc.collect()\n",
    "gc.enable()\n"
   ]
  },
  {
   "cell_type": "code",
   "execution_count": 2,
   "metadata": {
    "scrolled": true
   },
   "outputs": [
    {
     "name": "stderr",
     "output_type": "stream",
     "text": [
      "D:\\ProgramData\\Anaconda3\\lib\\site-packages\\IPython\\core\\interactiveshell.py:3057: DtypeWarning: Columns (31,32,48,49,52,53,54,55,57,60,61,64,65,66,68,70,71,72,74,75,76,77,78,79,80,81,82,84,85,89,90,91,92,93,104,110,114,120,173) have mixed types. Specify dtype option on import or set low_memory=False.\n",
      "  interactivity=interactivity, compiler=compiler, result=result)\n"
     ]
    }
   ],
   "source": [
    "import pandas as pd\n",
    "import gc\n",
    "gc.collect()\n",
    "gc.enable()\n",
    "\n",
    "\n",
    "train_df2 = pd.read_csv('./data/q3q4_q4q1_filter_features_label.csv',index_col=0)"
   ]
  },
  {
   "cell_type": "code",
   "execution_count": 5,
   "metadata": {},
   "outputs": [],
   "source": []
  },
  {
   "cell_type": "code",
   "execution_count": 13,
   "metadata": {},
   "outputs": [],
   "source": [
    "# # 建模及评估\n",
    "def data_train(df, result_df,var_name,category_list, xdrop_list):\n",
    "\n",
    "    def to_category_or_num(df, category_list):\n",
    "        for ft in df.columns:\n",
    "            if ft in category_list:\n",
    "                df[ft] = df[ft].astype('category')\n",
    "            else:\n",
    "                df[ft] = pd.to_numeric(df[ft], errors='coerce')\n",
    "    \n",
    "    \n",
    "\n",
    "    # 划分标签y，特征x, 处理类别/数值特征\n",
    "    # 缺失剔除\n",
    "    y = df.loc[(~df.cust_q.str.contains('^q1'))&df[var_name].notnull(),var_name].fillna(-1)\n",
    "\n",
    "    x = df.loc[(~df.cust_q.str.contains('^q1'))&df[var_name].notnull(), ~df.columns.str.contains('_y$')].drop(xdrop_list,axis=1) # 不含y标签，不含testq1的特征变量\n",
    "\n",
    "    oot_x = df.loc[:, ~df.columns.str.contains('_y$')].drop(xdrop_list,axis=1)\n",
    "\n",
    "    to_category_or_num(x, category_list)\n",
    "    to_category_or_num(oot_x, category_list)\n",
    "\n",
    "    #划分训练集，测试集\n",
    "    from sklearn.model_selection import train_test_split\n",
    "\n",
    "    train_x, test_x, train_y, test_y = train_test_split(x, y,test_size=0.3,random_state=0)\n",
    "\n",
    "\n",
    "    # 评估\n",
    "    from sklearn.metrics import mean_squared_error\n",
    "    def model_metrics(model, x, y):\n",
    "        y_pred = model.predict(x)\n",
    "        rmse = round(mean_squared_error(y_pred, y) ** 0.5, 5)\n",
    "        return rmse\n",
    "\n",
    "    # 模型训练\n",
    "    from lightgbm import LGBMRegressor\n",
    "\n",
    "    lgb = LGBMRegressor(random_state=1, reg_alpha=1, reg_lambda=1)\n",
    "    lgb.fit(train_x, train_y,eval_set=(test_x, test_y),early_stopping_rounds=100,verbose=50)\n",
    "    print(var_name,'\\n')\n",
    "    print('-'*30, 'train')\n",
    "    print(model_metrics(lgb, train_x, train_y))\n",
    "\n",
    "    print('-'*30, 'test')\n",
    "    print(model_metrics(lgb, test_x, test_y))\n",
    "    \n",
    "    # 保存结果\n",
    "    var = 'pred_' + var_name\n",
    "    result_df[var] = lgb.predict(oot_x)\n",
    "    \n"
   ]
  },
  {
   "cell_type": "code",
   "execution_count": 14,
   "metadata": {
    "scrolled": true
   },
   "outputs": [
    {
     "name": "stdout",
     "output_type": "stream",
     "text": [
      "Training until validation scores don't improve for 100 rounds\n",
      "[50]\tvalid_0's l2: 215.231\n",
      "[100]\tvalid_0's l2: 156.84\n",
      "Did not meet early stopping. Best iteration is:\n",
      "[100]\tvalid_0's l2: 156.84\n",
      "B1_fir_y \n",
      "\n",
      "------------------------------ train\n",
      "11.81298\n",
      "------------------------------ test\n",
      "12.52358\n"
     ]
    },
    {
     "name": "stderr",
     "output_type": "stream",
     "text": [
      "D:\\ProgramData\\Anaconda3\\lib\\site-packages\\lightgbm\\basic.py:1286: UserWarning: Overriding the parameters from Reference Dataset.\n",
      "  warnings.warn('Overriding the parameters from Reference Dataset.')\n",
      "D:\\ProgramData\\Anaconda3\\lib\\site-packages\\lightgbm\\basic.py:1098: UserWarning: categorical_column in param dict is overridden.\n",
      "  warnings.warn('{} in param dict is overridden.'.format(cat_alias))\n"
     ]
    },
    {
     "name": "stdout",
     "output_type": "stream",
     "text": [
      "Training until validation scores don't improve for 100 rounds\n",
      "[50]\tvalid_0's l2: 473.571\n",
      "[100]\tvalid_0's l2: 320.897\n",
      "Did not meet early stopping. Best iteration is:\n",
      "[100]\tvalid_0's l2: 320.897\n",
      "B1_sec_y \n",
      "\n",
      "------------------------------ train\n",
      "17.05355\n",
      "------------------------------ test\n",
      "17.91359\n"
     ]
    },
    {
     "name": "stderr",
     "output_type": "stream",
     "text": [
      "D:\\ProgramData\\Anaconda3\\lib\\site-packages\\lightgbm\\basic.py:1286: UserWarning: Overriding the parameters from Reference Dataset.\n",
      "  warnings.warn('Overriding the parameters from Reference Dataset.')\n",
      "D:\\ProgramData\\Anaconda3\\lib\\site-packages\\lightgbm\\basic.py:1098: UserWarning: categorical_column in param dict is overridden.\n",
      "  warnings.warn('{} in param dict is overridden.'.format(cat_alias))\n"
     ]
    },
    {
     "name": "stdout",
     "output_type": "stream",
     "text": [
      "Training until validation scores don't improve for 100 rounds\n",
      "[50]\tvalid_0's l2: 753.874\n",
      "[100]\tvalid_0's l2: 564.461\n",
      "Did not meet early stopping. Best iteration is:\n",
      "[99]\tvalid_0's l2: 564.062\n",
      "B1_y \n",
      "\n",
      "------------------------------ train\n",
      "22.71016\n",
      "------------------------------ test\n",
      "23.74999\n"
     ]
    },
    {
     "name": "stderr",
     "output_type": "stream",
     "text": [
      "D:\\ProgramData\\Anaconda3\\lib\\site-packages\\lightgbm\\basic.py:1286: UserWarning: Overriding the parameters from Reference Dataset.\n",
      "  warnings.warn('Overriding the parameters from Reference Dataset.')\n",
      "D:\\ProgramData\\Anaconda3\\lib\\site-packages\\lightgbm\\basic.py:1098: UserWarning: categorical_column in param dict is overridden.\n",
      "  warnings.warn('{} in param dict is overridden.'.format(cat_alias))\n"
     ]
    },
    {
     "name": "stdout",
     "output_type": "stream",
     "text": [
      "Training until validation scores don't improve for 100 rounds\n",
      "[50]\tvalid_0's l2: 311.361\n",
      "[100]\tvalid_0's l2: 203.258\n",
      "Did not meet early stopping. Best iteration is:\n",
      "[100]\tvalid_0's l2: 203.258\n",
      "B2_fir_y \n",
      "\n",
      "------------------------------ train\n",
      "12.37586\n",
      "------------------------------ test\n",
      "14.25685\n"
     ]
    },
    {
     "name": "stderr",
     "output_type": "stream",
     "text": [
      "D:\\ProgramData\\Anaconda3\\lib\\site-packages\\lightgbm\\basic.py:1286: UserWarning: Overriding the parameters from Reference Dataset.\n",
      "  warnings.warn('Overriding the parameters from Reference Dataset.')\n",
      "D:\\ProgramData\\Anaconda3\\lib\\site-packages\\lightgbm\\basic.py:1098: UserWarning: categorical_column in param dict is overridden.\n",
      "  warnings.warn('{} in param dict is overridden.'.format(cat_alias))\n"
     ]
    },
    {
     "name": "stdout",
     "output_type": "stream",
     "text": [
      "Training until validation scores don't improve for 100 rounds\n",
      "[50]\tvalid_0's l2: 531.278\n",
      "[100]\tvalid_0's l2: 306.058\n",
      "Did not meet early stopping. Best iteration is:\n",
      "[100]\tvalid_0's l2: 306.058\n",
      "B2_sec_y \n",
      "\n",
      "------------------------------ train\n",
      "15.97992\n",
      "------------------------------ test\n",
      "17.49453\n"
     ]
    },
    {
     "name": "stderr",
     "output_type": "stream",
     "text": [
      "D:\\ProgramData\\Anaconda3\\lib\\site-packages\\lightgbm\\basic.py:1286: UserWarning: Overriding the parameters from Reference Dataset.\n",
      "  warnings.warn('Overriding the parameters from Reference Dataset.')\n",
      "D:\\ProgramData\\Anaconda3\\lib\\site-packages\\lightgbm\\basic.py:1098: UserWarning: categorical_column in param dict is overridden.\n",
      "  warnings.warn('{} in param dict is overridden.'.format(cat_alias))\n"
     ]
    },
    {
     "name": "stdout",
     "output_type": "stream",
     "text": [
      "Training until validation scores don't improve for 100 rounds\n",
      "[50]\tvalid_0's l2: 581.462\n",
      "[100]\tvalid_0's l2: 419.43\n",
      "Did not meet early stopping. Best iteration is:\n",
      "[100]\tvalid_0's l2: 419.43\n",
      "B2_y \n",
      "\n",
      "------------------------------ train\n",
      "20.20257\n",
      "------------------------------ test\n",
      "20.47999\n"
     ]
    },
    {
     "name": "stderr",
     "output_type": "stream",
     "text": [
      "D:\\ProgramData\\Anaconda3\\lib\\site-packages\\lightgbm\\basic.py:1286: UserWarning: Overriding the parameters from Reference Dataset.\n",
      "  warnings.warn('Overriding the parameters from Reference Dataset.')\n",
      "D:\\ProgramData\\Anaconda3\\lib\\site-packages\\lightgbm\\basic.py:1098: UserWarning: categorical_column in param dict is overridden.\n",
      "  warnings.warn('{} in param dict is overridden.'.format(cat_alias))\n"
     ]
    },
    {
     "name": "stdout",
     "output_type": "stream",
     "text": [
      "Training until validation scores don't improve for 100 rounds\n",
      "[50]\tvalid_0's l2: 1.45515e+13\n",
      "[100]\tvalid_0's l2: 1.54103e+13\n",
      "Did not meet early stopping. Best iteration is:\n",
      "[4]\tvalid_0's l2: 3.8297e+12\n",
      "B3_fir_y \n",
      "\n",
      "------------------------------ train\n",
      "3644519.55401\n",
      "------------------------------ test\n",
      "1956961.03483\n"
     ]
    },
    {
     "name": "stderr",
     "output_type": "stream",
     "text": [
      "D:\\ProgramData\\Anaconda3\\lib\\site-packages\\lightgbm\\basic.py:1286: UserWarning: Overriding the parameters from Reference Dataset.\n",
      "  warnings.warn('Overriding the parameters from Reference Dataset.')\n",
      "D:\\ProgramData\\Anaconda3\\lib\\site-packages\\lightgbm\\basic.py:1098: UserWarning: categorical_column in param dict is overridden.\n",
      "  warnings.warn('{} in param dict is overridden.'.format(cat_alias))\n"
     ]
    },
    {
     "name": "stdout",
     "output_type": "stream",
     "text": [
      "Training until validation scores don't improve for 100 rounds\n",
      "[50]\tvalid_0's l2: 1.25195e+13\n",
      "[100]\tvalid_0's l2: 1.58092e+13\n",
      "Did not meet early stopping. Best iteration is:\n",
      "[2]\tvalid_0's l2: 3.75657e+12\n",
      "B3_sec_y \n",
      "\n",
      "------------------------------ train\n",
      "3551042.43086\n",
      "------------------------------ test\n",
      "1938188.15191\n"
     ]
    },
    {
     "name": "stderr",
     "output_type": "stream",
     "text": [
      "D:\\ProgramData\\Anaconda3\\lib\\site-packages\\lightgbm\\basic.py:1286: UserWarning: Overriding the parameters from Reference Dataset.\n",
      "  warnings.warn('Overriding the parameters from Reference Dataset.')\n",
      "D:\\ProgramData\\Anaconda3\\lib\\site-packages\\lightgbm\\basic.py:1098: UserWarning: categorical_column in param dict is overridden.\n",
      "  warnings.warn('{} in param dict is overridden.'.format(cat_alias))\n"
     ]
    },
    {
     "name": "stdout",
     "output_type": "stream",
     "text": [
      "Training until validation scores don't improve for 100 rounds\n",
      "[50]\tvalid_0's l2: 4.26741e+13\n",
      "[100]\tvalid_0's l2: 4.51209e+13\n",
      "Did not meet early stopping. Best iteration is:\n",
      "[2]\tvalid_0's l2: 3.15017e+13\n",
      "B3_y \n",
      "\n",
      "------------------------------ train\n",
      "4965237.70333\n",
      "------------------------------ test\n",
      "5612634.28914\n"
     ]
    },
    {
     "name": "stderr",
     "output_type": "stream",
     "text": [
      "D:\\ProgramData\\Anaconda3\\lib\\site-packages\\lightgbm\\basic.py:1286: UserWarning: Overriding the parameters from Reference Dataset.\n",
      "  warnings.warn('Overriding the parameters from Reference Dataset.')\n",
      "D:\\ProgramData\\Anaconda3\\lib\\site-packages\\lightgbm\\basic.py:1098: UserWarning: categorical_column in param dict is overridden.\n",
      "  warnings.warn('{} in param dict is overridden.'.format(cat_alias))\n"
     ]
    },
    {
     "name": "stdout",
     "output_type": "stream",
     "text": [
      "Training until validation scores don't improve for 100 rounds\n",
      "[50]\tvalid_0's l2: 428.206\n",
      "[100]\tvalid_0's l2: 320.303\n",
      "Did not meet early stopping. Best iteration is:\n",
      "[100]\tvalid_0's l2: 320.303\n",
      "B4_fir_y \n",
      "\n",
      "------------------------------ train\n",
      "13.5219\n",
      "------------------------------ test\n",
      "17.897\n"
     ]
    },
    {
     "name": "stderr",
     "output_type": "stream",
     "text": [
      "D:\\ProgramData\\Anaconda3\\lib\\site-packages\\lightgbm\\basic.py:1286: UserWarning: Overriding the parameters from Reference Dataset.\n",
      "  warnings.warn('Overriding the parameters from Reference Dataset.')\n",
      "D:\\ProgramData\\Anaconda3\\lib\\site-packages\\lightgbm\\basic.py:1098: UserWarning: categorical_column in param dict is overridden.\n",
      "  warnings.warn('{} in param dict is overridden.'.format(cat_alias))\n"
     ]
    },
    {
     "name": "stdout",
     "output_type": "stream",
     "text": [
      "Training until validation scores don't improve for 100 rounds\n",
      "[50]\tvalid_0's l2: 447.152\n",
      "[100]\tvalid_0's l2: 301.749\n",
      "Did not meet early stopping. Best iteration is:\n",
      "[100]\tvalid_0's l2: 301.749\n",
      "B4_sec_y \n",
      "\n",
      "------------------------------ train\n",
      "15.88522\n",
      "------------------------------ test\n",
      "17.37093\n"
     ]
    },
    {
     "name": "stderr",
     "output_type": "stream",
     "text": [
      "D:\\ProgramData\\Anaconda3\\lib\\site-packages\\lightgbm\\basic.py:1286: UserWarning: Overriding the parameters from Reference Dataset.\n",
      "  warnings.warn('Overriding the parameters from Reference Dataset.')\n",
      "D:\\ProgramData\\Anaconda3\\lib\\site-packages\\lightgbm\\basic.py:1098: UserWarning: categorical_column in param dict is overridden.\n",
      "  warnings.warn('{} in param dict is overridden.'.format(cat_alias))\n"
     ]
    },
    {
     "name": "stdout",
     "output_type": "stream",
     "text": [
      "Training until validation scores don't improve for 100 rounds\n",
      "[50]\tvalid_0's l2: 567.834\n",
      "[100]\tvalid_0's l2: 413.668\n",
      "Did not meet early stopping. Best iteration is:\n",
      "[100]\tvalid_0's l2: 413.668\n",
      "B4_y \n",
      "\n",
      "------------------------------ train\n",
      "17.75855\n",
      "------------------------------ test\n",
      "20.33883\n"
     ]
    },
    {
     "name": "stderr",
     "output_type": "stream",
     "text": [
      "D:\\ProgramData\\Anaconda3\\lib\\site-packages\\lightgbm\\basic.py:1286: UserWarning: Overriding the parameters from Reference Dataset.\n",
      "  warnings.warn('Overriding the parameters from Reference Dataset.')\n",
      "D:\\ProgramData\\Anaconda3\\lib\\site-packages\\lightgbm\\basic.py:1098: UserWarning: categorical_column in param dict is overridden.\n",
      "  warnings.warn('{} in param dict is overridden.'.format(cat_alias))\n"
     ]
    },
    {
     "name": "stdout",
     "output_type": "stream",
     "text": [
      "Training until validation scores don't improve for 100 rounds\n",
      "[50]\tvalid_0's l2: 1.94644e+13\n",
      "[100]\tvalid_0's l2: 2.71045e+13\n",
      "Did not meet early stopping. Best iteration is:\n",
      "[1]\tvalid_0's l2: 2.73022e+12\n",
      "B5_fir_y \n",
      "\n",
      "------------------------------ train\n",
      "3939791.50703\n",
      "------------------------------ test\n",
      "1652337.37227\n"
     ]
    },
    {
     "name": "stderr",
     "output_type": "stream",
     "text": [
      "D:\\ProgramData\\Anaconda3\\lib\\site-packages\\lightgbm\\basic.py:1286: UserWarning: Overriding the parameters from Reference Dataset.\n",
      "  warnings.warn('Overriding the parameters from Reference Dataset.')\n",
      "D:\\ProgramData\\Anaconda3\\lib\\site-packages\\lightgbm\\basic.py:1098: UserWarning: categorical_column in param dict is overridden.\n",
      "  warnings.warn('{} in param dict is overridden.'.format(cat_alias))\n"
     ]
    },
    {
     "name": "stdout",
     "output_type": "stream",
     "text": [
      "Training until validation scores don't improve for 100 rounds\n",
      "[50]\tvalid_0's l2: 3.97343e+13\n",
      "[100]\tvalid_0's l2: 4.3882e+13\n",
      "Did not meet early stopping. Best iteration is:\n",
      "[1]\tvalid_0's l2: 2.4475e+12\n",
      "B5_sec_y \n",
      "\n",
      "------------------------------ train\n",
      "3476734.28875\n",
      "------------------------------ test\n",
      "1564449.7667\n"
     ]
    },
    {
     "name": "stderr",
     "output_type": "stream",
     "text": [
      "D:\\ProgramData\\Anaconda3\\lib\\site-packages\\lightgbm\\basic.py:1286: UserWarning: Overriding the parameters from Reference Dataset.\n",
      "  warnings.warn('Overriding the parameters from Reference Dataset.')\n",
      "D:\\ProgramData\\Anaconda3\\lib\\site-packages\\lightgbm\\basic.py:1098: UserWarning: categorical_column in param dict is overridden.\n",
      "  warnings.warn('{} in param dict is overridden.'.format(cat_alias))\n"
     ]
    },
    {
     "name": "stdout",
     "output_type": "stream",
     "text": [
      "Training until validation scores don't improve for 100 rounds\n",
      "[50]\tvalid_0's l2: 4.54309e+13\n",
      "[100]\tvalid_0's l2: 4.60789e+13\n",
      "Did not meet early stopping. Best iteration is:\n",
      "[1]\tvalid_0's l2: 3.03343e+13\n",
      "B5_y \n",
      "\n",
      "------------------------------ train\n",
      "4897083.17032\n",
      "------------------------------ test\n",
      "5507655.95947\n",
      "Series.dtypes must be int, float or bool\n"
     ]
    },
    {
     "name": "stderr",
     "output_type": "stream",
     "text": [
      "D:\\ProgramData\\Anaconda3\\lib\\site-packages\\lightgbm\\basic.py:1286: UserWarning: Overriding the parameters from Reference Dataset.\n",
      "  warnings.warn('Overriding the parameters from Reference Dataset.')\n",
      "D:\\ProgramData\\Anaconda3\\lib\\site-packages\\lightgbm\\basic.py:1098: UserWarning: categorical_column in param dict is overridden.\n",
      "  warnings.warn('{} in param dict is overridden.'.format(cat_alias))\n"
     ]
    },
    {
     "name": "stdout",
     "output_type": "stream",
     "text": [
      "Training until validation scores don't improve for 100 rounds\n",
      "[50]\tvalid_0's l2: 21540\n",
      "[100]\tvalid_0's l2: 15555.5\n",
      "Did not meet early stopping. Best iteration is:\n",
      "[100]\tvalid_0's l2: 15555.5\n",
      "B7_y \n",
      "\n",
      "------------------------------ train\n",
      "110.54116\n",
      "------------------------------ test\n",
      "124.72154\n"
     ]
    },
    {
     "name": "stderr",
     "output_type": "stream",
     "text": [
      "D:\\ProgramData\\Anaconda3\\lib\\site-packages\\lightgbm\\basic.py:1286: UserWarning: Overriding the parameters from Reference Dataset.\n",
      "  warnings.warn('Overriding the parameters from Reference Dataset.')\n",
      "D:\\ProgramData\\Anaconda3\\lib\\site-packages\\lightgbm\\basic.py:1098: UserWarning: categorical_column in param dict is overridden.\n",
      "  warnings.warn('{} in param dict is overridden.'.format(cat_alias))\n"
     ]
    },
    {
     "name": "stdout",
     "output_type": "stream",
     "text": [
      "Training until validation scores don't improve for 100 rounds\n",
      "[50]\tvalid_0's l2: 1.41706e+12\n",
      "[100]\tvalid_0's l2: 1.45677e+12\n",
      "Did not meet early stopping. Best iteration is:\n",
      "[42]\tvalid_0's l2: 1.40434e+12\n",
      "C1_fir_y \n",
      "\n",
      "------------------------------ train\n",
      "683012.228\n",
      "------------------------------ test\n",
      "1185050.36975\n"
     ]
    },
    {
     "name": "stderr",
     "output_type": "stream",
     "text": [
      "D:\\ProgramData\\Anaconda3\\lib\\site-packages\\lightgbm\\basic.py:1286: UserWarning: Overriding the parameters from Reference Dataset.\n",
      "  warnings.warn('Overriding the parameters from Reference Dataset.')\n",
      "D:\\ProgramData\\Anaconda3\\lib\\site-packages\\lightgbm\\basic.py:1098: UserWarning: categorical_column in param dict is overridden.\n",
      "  warnings.warn('{} in param dict is overridden.'.format(cat_alias))\n"
     ]
    },
    {
     "name": "stdout",
     "output_type": "stream",
     "text": [
      "Training until validation scores don't improve for 100 rounds\n",
      "[50]\tvalid_0's l2: 1.97074e+12\n",
      "[100]\tvalid_0's l2: 2.01262e+12\n",
      "Did not meet early stopping. Best iteration is:\n",
      "[56]\tvalid_0's l2: 1.96358e+12\n",
      "C1_sec_y \n",
      "\n",
      "------------------------------ train\n",
      "846863.76454\n",
      "------------------------------ test\n",
      "1401276.80605\n"
     ]
    },
    {
     "name": "stderr",
     "output_type": "stream",
     "text": [
      "D:\\ProgramData\\Anaconda3\\lib\\site-packages\\lightgbm\\basic.py:1286: UserWarning: Overriding the parameters from Reference Dataset.\n",
      "  warnings.warn('Overriding the parameters from Reference Dataset.')\n",
      "D:\\ProgramData\\Anaconda3\\lib\\site-packages\\lightgbm\\basic.py:1098: UserWarning: categorical_column in param dict is overridden.\n",
      "  warnings.warn('{} in param dict is overridden.'.format(cat_alias))\n"
     ]
    },
    {
     "name": "stdout",
     "output_type": "stream",
     "text": [
      "Training until validation scores don't improve for 100 rounds\n",
      "[50]\tvalid_0's l2: 1.09808e+12\n",
      "[100]\tvalid_0's l2: 1.16978e+12\n",
      "Did not meet early stopping. Best iteration is:\n",
      "[22]\tvalid_0's l2: 1.03784e+12\n",
      "C1_y \n",
      "\n",
      "------------------------------ train\n",
      "1191898.32051\n",
      "------------------------------ test\n",
      "1018744.23006\n"
     ]
    },
    {
     "name": "stderr",
     "output_type": "stream",
     "text": [
      "D:\\ProgramData\\Anaconda3\\lib\\site-packages\\lightgbm\\basic.py:1286: UserWarning: Overriding the parameters from Reference Dataset.\n",
      "  warnings.warn('Overriding the parameters from Reference Dataset.')\n",
      "D:\\ProgramData\\Anaconda3\\lib\\site-packages\\lightgbm\\basic.py:1098: UserWarning: categorical_column in param dict is overridden.\n",
      "  warnings.warn('{} in param dict is overridden.'.format(cat_alias))\n"
     ]
    },
    {
     "name": "stdout",
     "output_type": "stream",
     "text": [
      "Training until validation scores don't improve for 100 rounds\n",
      "[50]\tvalid_0's l2: 1.29209\n",
      "[100]\tvalid_0's l2: 0.641338\n",
      "Did not meet early stopping. Best iteration is:\n",
      "[99]\tvalid_0's l2: 0.640434\n",
      "C2_fir_y \n",
      "\n",
      "------------------------------ train\n",
      "0.7174\n",
      "------------------------------ test\n",
      "0.80027\n"
     ]
    },
    {
     "name": "stderr",
     "output_type": "stream",
     "text": [
      "D:\\ProgramData\\Anaconda3\\lib\\site-packages\\lightgbm\\basic.py:1286: UserWarning: Overriding the parameters from Reference Dataset.\n",
      "  warnings.warn('Overriding the parameters from Reference Dataset.')\n",
      "D:\\ProgramData\\Anaconda3\\lib\\site-packages\\lightgbm\\basic.py:1098: UserWarning: categorical_column in param dict is overridden.\n",
      "  warnings.warn('{} in param dict is overridden.'.format(cat_alias))\n"
     ]
    },
    {
     "name": "stdout",
     "output_type": "stream",
     "text": [
      "Training until validation scores don't improve for 100 rounds\n",
      "[50]\tvalid_0's l2: 2.68711\n",
      "[100]\tvalid_0's l2: 1.39102\n",
      "Did not meet early stopping. Best iteration is:\n",
      "[100]\tvalid_0's l2: 1.39102\n",
      "C2_sec_y \n",
      "\n",
      "------------------------------ train\n",
      "1.08411\n",
      "------------------------------ test\n",
      "1.17941\n"
     ]
    },
    {
     "name": "stderr",
     "output_type": "stream",
     "text": [
      "D:\\ProgramData\\Anaconda3\\lib\\site-packages\\lightgbm\\basic.py:1286: UserWarning: Overriding the parameters from Reference Dataset.\n",
      "  warnings.warn('Overriding the parameters from Reference Dataset.')\n",
      "D:\\ProgramData\\Anaconda3\\lib\\site-packages\\lightgbm\\basic.py:1098: UserWarning: categorical_column in param dict is overridden.\n",
      "  warnings.warn('{} in param dict is overridden.'.format(cat_alias))\n"
     ]
    },
    {
     "name": "stdout",
     "output_type": "stream",
     "text": [
      "Training until validation scores don't improve for 100 rounds\n",
      "[50]\tvalid_0's l2: 5.316\n",
      "[100]\tvalid_0's l2: 2.97508\n",
      "Did not meet early stopping. Best iteration is:\n",
      "[100]\tvalid_0's l2: 2.97508\n",
      "C2_y \n",
      "\n",
      "------------------------------ train\n",
      "1.61321\n",
      "------------------------------ test\n",
      "1.72484\n",
      "Series.dtypes must be int, float or bool\n",
      "Series.dtypes must be int, float or bool\n"
     ]
    },
    {
     "name": "stderr",
     "output_type": "stream",
     "text": [
      "D:\\ProgramData\\Anaconda3\\lib\\site-packages\\lightgbm\\basic.py:1286: UserWarning: Overriding the parameters from Reference Dataset.\n",
      "  warnings.warn('Overriding the parameters from Reference Dataset.')\n",
      "D:\\ProgramData\\Anaconda3\\lib\\site-packages\\lightgbm\\basic.py:1098: UserWarning: categorical_column in param dict is overridden.\n",
      "  warnings.warn('{} in param dict is overridden.'.format(cat_alias))\n"
     ]
    },
    {
     "name": "stdout",
     "output_type": "stream",
     "text": [
      "Training until validation scores don't improve for 100 rounds\n",
      "[50]\tvalid_0's l2: 3.53048e+12\n",
      "[100]\tvalid_0's l2: 3.90405e+12\n",
      "Did not meet early stopping. Best iteration is:\n",
      "[42]\tvalid_0's l2: 3.5226e+12\n",
      "E15_y \n",
      "\n",
      "------------------------------ train\n",
      "1553922.71059\n",
      "------------------------------ test\n",
      "1876858.03283\n",
      "Series.dtypes must be int, float or bool\n"
     ]
    },
    {
     "name": "stderr",
     "output_type": "stream",
     "text": [
      "D:\\ProgramData\\Anaconda3\\lib\\site-packages\\lightgbm\\basic.py:1286: UserWarning: Overriding the parameters from Reference Dataset.\n",
      "  warnings.warn('Overriding the parameters from Reference Dataset.')\n",
      "D:\\ProgramData\\Anaconda3\\lib\\site-packages\\lightgbm\\basic.py:1098: UserWarning: categorical_column in param dict is overridden.\n",
      "  warnings.warn('{} in param dict is overridden.'.format(cat_alias))\n"
     ]
    },
    {
     "name": "stdout",
     "output_type": "stream",
     "text": [
      "Training until validation scores don't improve for 100 rounds\n",
      "[50]\tvalid_0's l2: 1.57012e+12\n",
      "[100]\tvalid_0's l2: 1.2749e+12\n",
      "Did not meet early stopping. Best iteration is:\n",
      "[95]\tvalid_0's l2: 1.26117e+12\n",
      "E17_y \n",
      "\n",
      "------------------------------ train\n",
      "628940.50213\n",
      "------------------------------ test\n",
      "1123020.27165\n",
      "Series.dtypes must be int, float or bool\n",
      "Series.dtypes must be int, float or bool\n",
      "Series.dtypes must be int, float or bool\n",
      "Series.dtypes must be int, float or bool\n",
      "Series.dtypes must be int, float or bool\n",
      "Series.dtypes must be int, float or bool\n",
      "Series.dtypes must be int, float or bool\n"
     ]
    },
    {
     "name": "stderr",
     "output_type": "stream",
     "text": [
      "D:\\ProgramData\\Anaconda3\\lib\\site-packages\\lightgbm\\basic.py:1286: UserWarning: Overriding the parameters from Reference Dataset.\n",
      "  warnings.warn('Overriding the parameters from Reference Dataset.')\n",
      "D:\\ProgramData\\Anaconda3\\lib\\site-packages\\lightgbm\\basic.py:1098: UserWarning: categorical_column in param dict is overridden.\n",
      "  warnings.warn('{} in param dict is overridden.'.format(cat_alias))\n"
     ]
    },
    {
     "name": "stdout",
     "output_type": "stream",
     "text": [
      "Training until validation scores don't improve for 100 rounds\n",
      "[50]\tvalid_0's l2: 6.98683e+11\n",
      "[100]\tvalid_0's l2: 6.0542e+11\n",
      "Did not meet early stopping. Best iteration is:\n",
      "[100]\tvalid_0's l2: 6.0542e+11\n",
      "I11_y \n",
      "\n",
      "------------------------------ train\n",
      "741677.08982\n",
      "------------------------------ test\n",
      "778087.44394\n",
      "Series.dtypes must be int, float or bool\n"
     ]
    },
    {
     "name": "stderr",
     "output_type": "stream",
     "text": [
      "D:\\ProgramData\\Anaconda3\\lib\\site-packages\\lightgbm\\basic.py:1286: UserWarning: Overriding the parameters from Reference Dataset.\n",
      "  warnings.warn('Overriding the parameters from Reference Dataset.')\n",
      "D:\\ProgramData\\Anaconda3\\lib\\site-packages\\lightgbm\\basic.py:1098: UserWarning: categorical_column in param dict is overridden.\n",
      "  warnings.warn('{} in param dict is overridden.'.format(cat_alias))\n"
     ]
    },
    {
     "name": "stdout",
     "output_type": "stream",
     "text": [
      "Training until validation scores don't improve for 100 rounds\n",
      "[50]\tvalid_0's l2: 0.000409876\n",
      "[100]\tvalid_0's l2: 0.000318901\n",
      "Did not meet early stopping. Best iteration is:\n",
      "[100]\tvalid_0's l2: 0.000318901\n",
      "I15_y \n",
      "\n",
      "------------------------------ train\n",
      "0.01271\n",
      "------------------------------ test\n",
      "0.01786\n"
     ]
    },
    {
     "name": "stderr",
     "output_type": "stream",
     "text": [
      "D:\\ProgramData\\Anaconda3\\lib\\site-packages\\lightgbm\\basic.py:1286: UserWarning: Overriding the parameters from Reference Dataset.\n",
      "  warnings.warn('Overriding the parameters from Reference Dataset.')\n",
      "D:\\ProgramData\\Anaconda3\\lib\\site-packages\\lightgbm\\basic.py:1098: UserWarning: categorical_column in param dict is overridden.\n",
      "  warnings.warn('{} in param dict is overridden.'.format(cat_alias))\n"
     ]
    },
    {
     "name": "stdout",
     "output_type": "stream",
     "text": [
      "Training until validation scores don't improve for 100 rounds\n",
      "[50]\tvalid_0's l2: 0.0184736\n",
      "[100]\tvalid_0's l2: 0.0178875\n",
      "Did not meet early stopping. Best iteration is:\n",
      "[100]\tvalid_0's l2: 0.0178875\n",
      "I16_y \n",
      "\n",
      "------------------------------ train\n",
      "0.12285\n",
      "------------------------------ test\n",
      "0.13374\n"
     ]
    },
    {
     "name": "stderr",
     "output_type": "stream",
     "text": [
      "D:\\ProgramData\\Anaconda3\\lib\\site-packages\\lightgbm\\basic.py:1286: UserWarning: Overriding the parameters from Reference Dataset.\n",
      "  warnings.warn('Overriding the parameters from Reference Dataset.')\n",
      "D:\\ProgramData\\Anaconda3\\lib\\site-packages\\lightgbm\\basic.py:1098: UserWarning: categorical_column in param dict is overridden.\n",
      "  warnings.warn('{} in param dict is overridden.'.format(cat_alias))\n"
     ]
    },
    {
     "name": "stdout",
     "output_type": "stream",
     "text": [
      "Training until validation scores don't improve for 100 rounds\n",
      "[50]\tvalid_0's l2: 0.00320321\n",
      "[100]\tvalid_0's l2: 0.00306978\n",
      "Did not meet early stopping. Best iteration is:\n",
      "[100]\tvalid_0's l2: 0.00306978\n",
      "I17_y \n",
      "\n",
      "------------------------------ train\n",
      "0.05163\n",
      "------------------------------ test\n",
      "0.05541\n"
     ]
    },
    {
     "name": "stderr",
     "output_type": "stream",
     "text": [
      "D:\\ProgramData\\Anaconda3\\lib\\site-packages\\lightgbm\\basic.py:1286: UserWarning: Overriding the parameters from Reference Dataset.\n",
      "  warnings.warn('Overriding the parameters from Reference Dataset.')\n",
      "D:\\ProgramData\\Anaconda3\\lib\\site-packages\\lightgbm\\basic.py:1098: UserWarning: categorical_column in param dict is overridden.\n",
      "  warnings.warn('{} in param dict is overridden.'.format(cat_alias))\n"
     ]
    },
    {
     "name": "stdout",
     "output_type": "stream",
     "text": [
      "Training until validation scores don't improve for 100 rounds\n",
      "[50]\tvalid_0's l2: 0.00320321\n",
      "[100]\tvalid_0's l2: 0.00306978\n",
      "Did not meet early stopping. Best iteration is:\n",
      "[100]\tvalid_0's l2: 0.00306978\n",
      "I18_y \n",
      "\n",
      "------------------------------ train\n",
      "0.05163\n",
      "------------------------------ test\n",
      "0.05541\n"
     ]
    },
    {
     "name": "stderr",
     "output_type": "stream",
     "text": [
      "D:\\ProgramData\\Anaconda3\\lib\\site-packages\\lightgbm\\basic.py:1286: UserWarning: Overriding the parameters from Reference Dataset.\n",
      "  warnings.warn('Overriding the parameters from Reference Dataset.')\n",
      "D:\\ProgramData\\Anaconda3\\lib\\site-packages\\lightgbm\\basic.py:1098: UserWarning: categorical_column in param dict is overridden.\n",
      "  warnings.warn('{} in param dict is overridden.'.format(cat_alias))\n"
     ]
    },
    {
     "name": "stdout",
     "output_type": "stream",
     "text": [
      "Training until validation scores don't improve for 100 rounds\n",
      "[50]\tvalid_0's l2: 0.00123194\n",
      "[100]\tvalid_0's l2: 0.0011472\n",
      "Did not meet early stopping. Best iteration is:\n",
      "[100]\tvalid_0's l2: 0.0011472\n",
      "I19_y \n",
      "\n",
      "------------------------------ train\n",
      "0.03042\n",
      "------------------------------ test\n",
      "0.03387\n",
      "Series.dtypes must be int, float or bool\n"
     ]
    },
    {
     "name": "stderr",
     "output_type": "stream",
     "text": [
      "D:\\ProgramData\\Anaconda3\\lib\\site-packages\\lightgbm\\basic.py:1286: UserWarning: Overriding the parameters from Reference Dataset.\n",
      "  warnings.warn('Overriding the parameters from Reference Dataset.')\n",
      "D:\\ProgramData\\Anaconda3\\lib\\site-packages\\lightgbm\\basic.py:1098: UserWarning: categorical_column in param dict is overridden.\n",
      "  warnings.warn('{} in param dict is overridden.'.format(cat_alias))\n"
     ]
    },
    {
     "name": "stdout",
     "output_type": "stream",
     "text": [
      "Training until validation scores don't improve for 100 rounds\n",
      "[50]\tvalid_0's l2: 0.0167914\n",
      "[100]\tvalid_0's l2: 0.0168067\n",
      "Did not meet early stopping. Best iteration is:\n",
      "[73]\tvalid_0's l2: 0.0167753\n",
      "I20_y \n",
      "\n",
      "------------------------------ train\n",
      "0.11944\n",
      "------------------------------ test\n",
      "0.12952\n"
     ]
    },
    {
     "name": "stderr",
     "output_type": "stream",
     "text": [
      "D:\\ProgramData\\Anaconda3\\lib\\site-packages\\lightgbm\\basic.py:1286: UserWarning: Overriding the parameters from Reference Dataset.\n",
      "  warnings.warn('Overriding the parameters from Reference Dataset.')\n",
      "D:\\ProgramData\\Anaconda3\\lib\\site-packages\\lightgbm\\basic.py:1098: UserWarning: categorical_column in param dict is overridden.\n",
      "  warnings.warn('{} in param dict is overridden.'.format(cat_alias))\n"
     ]
    },
    {
     "name": "stdout",
     "output_type": "stream",
     "text": [
      "Training until validation scores don't improve for 100 rounds\n",
      "[50]\tvalid_0's l2: 0.316706\n",
      "[100]\tvalid_0's l2: 0.178828\n",
      "Did not meet early stopping. Best iteration is:\n",
      "[100]\tvalid_0's l2: 0.178828\n",
      "I2_y \n",
      "\n",
      "------------------------------ train\n",
      "0.38198\n",
      "------------------------------ test\n",
      "0.42288\n",
      "Series.dtypes must be int, float or bool\n"
     ]
    },
    {
     "name": "stderr",
     "output_type": "stream",
     "text": [
      "D:\\ProgramData\\Anaconda3\\lib\\site-packages\\lightgbm\\basic.py:1286: UserWarning: Overriding the parameters from Reference Dataset.\n",
      "  warnings.warn('Overriding the parameters from Reference Dataset.')\n",
      "D:\\ProgramData\\Anaconda3\\lib\\site-packages\\lightgbm\\basic.py:1098: UserWarning: categorical_column in param dict is overridden.\n",
      "  warnings.warn('{} in param dict is overridden.'.format(cat_alias))\n"
     ]
    },
    {
     "name": "stdout",
     "output_type": "stream",
     "text": [
      "Training until validation scores don't improve for 100 rounds\n",
      "[50]\tvalid_0's l2: 0.00189744\n",
      "[100]\tvalid_0's l2: 0.00166125\n",
      "Did not meet early stopping. Best iteration is:\n",
      "[100]\tvalid_0's l2: 0.00166125\n",
      "I4_y \n",
      "\n",
      "------------------------------ train\n",
      "0.02568\n",
      "------------------------------ test\n",
      "0.04076\n",
      "Series.dtypes must be int, float or bool\n"
     ]
    },
    {
     "name": "stderr",
     "output_type": "stream",
     "text": [
      "D:\\ProgramData\\Anaconda3\\lib\\site-packages\\lightgbm\\basic.py:1286: UserWarning: Overriding the parameters from Reference Dataset.\n",
      "  warnings.warn('Overriding the parameters from Reference Dataset.')\n",
      "D:\\ProgramData\\Anaconda3\\lib\\site-packages\\lightgbm\\basic.py:1098: UserWarning: categorical_column in param dict is overridden.\n",
      "  warnings.warn('{} in param dict is overridden.'.format(cat_alias))\n"
     ]
    },
    {
     "name": "stdout",
     "output_type": "stream",
     "text": [
      "Training until validation scores don't improve for 100 rounds\n",
      "[50]\tvalid_0's l2: 0.00288205\n",
      "[100]\tvalid_0's l2: 0.00280535\n",
      "Did not meet early stopping. Best iteration is:\n",
      "[99]\tvalid_0's l2: 0.00280523\n",
      "I6_y \n",
      "\n",
      "------------------------------ train\n",
      "0.04113\n",
      "------------------------------ test\n",
      "0.05296\n"
     ]
    },
    {
     "name": "stderr",
     "output_type": "stream",
     "text": [
      "D:\\ProgramData\\Anaconda3\\lib\\site-packages\\lightgbm\\basic.py:1286: UserWarning: Overriding the parameters from Reference Dataset.\n",
      "  warnings.warn('Overriding the parameters from Reference Dataset.')\n",
      "D:\\ProgramData\\Anaconda3\\lib\\site-packages\\lightgbm\\basic.py:1098: UserWarning: categorical_column in param dict is overridden.\n",
      "  warnings.warn('{} in param dict is overridden.'.format(cat_alias))\n"
     ]
    },
    {
     "name": "stdout",
     "output_type": "stream",
     "text": [
      "Training until validation scores don't improve for 100 rounds\n",
      "[50]\tvalid_0's l2: 0\n",
      "[100]\tvalid_0's l2: 0\n",
      "Did not meet early stopping. Best iteration is:\n",
      "[1]\tvalid_0's l2: 0\n",
      "I7_y \n",
      "\n",
      "------------------------------ train\n",
      "0.0\n",
      "------------------------------ test\n",
      "0.0\n",
      "Series.dtypes must be int, float or bool\n"
     ]
    },
    {
     "name": "stderr",
     "output_type": "stream",
     "text": [
      "D:\\ProgramData\\Anaconda3\\lib\\site-packages\\lightgbm\\basic.py:1286: UserWarning: Overriding the parameters from Reference Dataset.\n",
      "  warnings.warn('Overriding the parameters from Reference Dataset.')\n",
      "D:\\ProgramData\\Anaconda3\\lib\\site-packages\\lightgbm\\basic.py:1098: UserWarning: categorical_column in param dict is overridden.\n",
      "  warnings.warn('{} in param dict is overridden.'.format(cat_alias))\n"
     ]
    },
    {
     "name": "stdout",
     "output_type": "stream",
     "text": [
      "Training until validation scores don't improve for 100 rounds\n",
      "[50]\tvalid_0's l2: 3.29743e+12\n",
      "[100]\tvalid_0's l2: 2.96031e+12\n",
      "Did not meet early stopping. Best iteration is:\n",
      "[21]\tvalid_0's l2: 2.795e+12\n",
      "X1_fir_y \n",
      "\n",
      "------------------------------ train\n",
      "1525185.31754\n",
      "------------------------------ test\n",
      "1671824.27647\n"
     ]
    },
    {
     "name": "stderr",
     "output_type": "stream",
     "text": [
      "D:\\ProgramData\\Anaconda3\\lib\\site-packages\\lightgbm\\basic.py:1286: UserWarning: Overriding the parameters from Reference Dataset.\n",
      "  warnings.warn('Overriding the parameters from Reference Dataset.')\n",
      "D:\\ProgramData\\Anaconda3\\lib\\site-packages\\lightgbm\\basic.py:1098: UserWarning: categorical_column in param dict is overridden.\n",
      "  warnings.warn('{} in param dict is overridden.'.format(cat_alias))\n"
     ]
    },
    {
     "name": "stdout",
     "output_type": "stream",
     "text": [
      "Training until validation scores don't improve for 100 rounds\n",
      "[50]\tvalid_0's l2: 4.04865e+12\n",
      "[100]\tvalid_0's l2: 3.65999e+12\n",
      "Did not meet early stopping. Best iteration is:\n",
      "[100]\tvalid_0's l2: 3.65999e+12\n",
      "X1_sec_y \n",
      "\n",
      "------------------------------ train\n",
      "1519037.9812\n",
      "------------------------------ test\n",
      "1913110.00885\n"
     ]
    },
    {
     "name": "stderr",
     "output_type": "stream",
     "text": [
      "D:\\ProgramData\\Anaconda3\\lib\\site-packages\\lightgbm\\basic.py:1286: UserWarning: Overriding the parameters from Reference Dataset.\n",
      "  warnings.warn('Overriding the parameters from Reference Dataset.')\n",
      "D:\\ProgramData\\Anaconda3\\lib\\site-packages\\lightgbm\\basic.py:1098: UserWarning: categorical_column in param dict is overridden.\n",
      "  warnings.warn('{} in param dict is overridden.'.format(cat_alias))\n"
     ]
    },
    {
     "name": "stdout",
     "output_type": "stream",
     "text": [
      "Training until validation scores don't improve for 100 rounds\n",
      "[50]\tvalid_0's l2: 5.76261e+12\n",
      "[100]\tvalid_0's l2: 5.12113e+12\n",
      "Did not meet early stopping. Best iteration is:\n",
      "[15]\tvalid_0's l2: 4.9431e+12\n",
      "X1_y \n",
      "\n",
      "------------------------------ train\n",
      "2031902.01336\n",
      "------------------------------ test\n",
      "2223309.16339\n"
     ]
    },
    {
     "name": "stderr",
     "output_type": "stream",
     "text": [
      "D:\\ProgramData\\Anaconda3\\lib\\site-packages\\lightgbm\\basic.py:1286: UserWarning: Overriding the parameters from Reference Dataset.\n",
      "  warnings.warn('Overriding the parameters from Reference Dataset.')\n",
      "D:\\ProgramData\\Anaconda3\\lib\\site-packages\\lightgbm\\basic.py:1098: UserWarning: categorical_column in param dict is overridden.\n",
      "  warnings.warn('{} in param dict is overridden.'.format(cat_alias))\n"
     ]
    },
    {
     "name": "stdout",
     "output_type": "stream",
     "text": [
      "Training until validation scores don't improve for 100 rounds\n",
      "[50]\tvalid_0's l2: 1.94509e+12\n",
      "[100]\tvalid_0's l2: 1.80331e+12\n",
      "Did not meet early stopping. Best iteration is:\n",
      "[8]\tvalid_0's l2: 8.62376e+11\n",
      "X2_fir_y \n",
      "\n",
      "------------------------------ train\n",
      "1047851.99112\n",
      "------------------------------ test\n",
      "928641.97293\n"
     ]
    },
    {
     "name": "stderr",
     "output_type": "stream",
     "text": [
      "D:\\ProgramData\\Anaconda3\\lib\\site-packages\\lightgbm\\basic.py:1286: UserWarning: Overriding the parameters from Reference Dataset.\n",
      "  warnings.warn('Overriding the parameters from Reference Dataset.')\n",
      "D:\\ProgramData\\Anaconda3\\lib\\site-packages\\lightgbm\\basic.py:1098: UserWarning: categorical_column in param dict is overridden.\n",
      "  warnings.warn('{} in param dict is overridden.'.format(cat_alias))\n"
     ]
    },
    {
     "name": "stdout",
     "output_type": "stream",
     "text": [
      "Training until validation scores don't improve for 100 rounds\n",
      "[50]\tvalid_0's l2: 2.01543e+12\n",
      "[100]\tvalid_0's l2: 1.98554e+12\n",
      "Did not meet early stopping. Best iteration is:\n",
      "[7]\tvalid_0's l2: 8.29495e+11\n",
      "X2_sec_y \n",
      "\n",
      "------------------------------ train\n",
      "1089859.586\n",
      "------------------------------ test\n",
      "910766.2282\n"
     ]
    },
    {
     "name": "stderr",
     "output_type": "stream",
     "text": [
      "D:\\ProgramData\\Anaconda3\\lib\\site-packages\\lightgbm\\basic.py:1286: UserWarning: Overriding the parameters from Reference Dataset.\n",
      "  warnings.warn('Overriding the parameters from Reference Dataset.')\n",
      "D:\\ProgramData\\Anaconda3\\lib\\site-packages\\lightgbm\\basic.py:1098: UserWarning: categorical_column in param dict is overridden.\n",
      "  warnings.warn('{} in param dict is overridden.'.format(cat_alias))\n"
     ]
    },
    {
     "name": "stdout",
     "output_type": "stream",
     "text": [
      "Training until validation scores don't improve for 100 rounds\n",
      "[50]\tvalid_0's l2: 7.71083e+12\n",
      "[100]\tvalid_0's l2: 7.62678e+12\n",
      "Did not meet early stopping. Best iteration is:\n",
      "[1]\tvalid_0's l2: 1.203e+12\n",
      "X2_y \n",
      "\n",
      "------------------------------ train\n",
      "1724366.31195\n",
      "------------------------------ test\n",
      "1096811.87492\n"
     ]
    },
    {
     "name": "stderr",
     "output_type": "stream",
     "text": [
      "D:\\ProgramData\\Anaconda3\\lib\\site-packages\\lightgbm\\basic.py:1286: UserWarning: Overriding the parameters from Reference Dataset.\n",
      "  warnings.warn('Overriding the parameters from Reference Dataset.')\n",
      "D:\\ProgramData\\Anaconda3\\lib\\site-packages\\lightgbm\\basic.py:1098: UserWarning: categorical_column in param dict is overridden.\n",
      "  warnings.warn('{} in param dict is overridden.'.format(cat_alias))\n"
     ]
    },
    {
     "name": "stdout",
     "output_type": "stream",
     "text": [
      "Training until validation scores don't improve for 100 rounds\n",
      "[50]\tvalid_0's l2: 2.39735e+11\n",
      "[100]\tvalid_0's l2: 2.46089e+11\n",
      "Did not meet early stopping. Best iteration is:\n",
      "[16]\tvalid_0's l2: 2.30513e+11\n",
      "X3_fir_y \n",
      "\n",
      "------------------------------ train\n",
      "314223.87607\n",
      "------------------------------ test\n",
      "480118.07675\n"
     ]
    },
    {
     "name": "stderr",
     "output_type": "stream",
     "text": [
      "D:\\ProgramData\\Anaconda3\\lib\\site-packages\\lightgbm\\basic.py:1286: UserWarning: Overriding the parameters from Reference Dataset.\n",
      "  warnings.warn('Overriding the parameters from Reference Dataset.')\n",
      "D:\\ProgramData\\Anaconda3\\lib\\site-packages\\lightgbm\\basic.py:1098: UserWarning: categorical_column in param dict is overridden.\n",
      "  warnings.warn('{} in param dict is overridden.'.format(cat_alias))\n"
     ]
    },
    {
     "name": "stdout",
     "output_type": "stream",
     "text": [
      "Training until validation scores don't improve for 100 rounds\n",
      "[50]\tvalid_0's l2: 1.45259e+11\n",
      "[100]\tvalid_0's l2: 1.55405e+11\n",
      "Did not meet early stopping. Best iteration is:\n",
      "[8]\tvalid_0's l2: 1.10418e+11\n",
      "X3_sec_y \n",
      "\n",
      "------------------------------ train\n",
      "315485.99733\n",
      "------------------------------ test\n",
      "332292.59785\n"
     ]
    },
    {
     "name": "stderr",
     "output_type": "stream",
     "text": [
      "D:\\ProgramData\\Anaconda3\\lib\\site-packages\\lightgbm\\basic.py:1286: UserWarning: Overriding the parameters from Reference Dataset.\n",
      "  warnings.warn('Overriding the parameters from Reference Dataset.')\n",
      "D:\\ProgramData\\Anaconda3\\lib\\site-packages\\lightgbm\\basic.py:1098: UserWarning: categorical_column in param dict is overridden.\n",
      "  warnings.warn('{} in param dict is overridden.'.format(cat_alias))\n"
     ]
    },
    {
     "name": "stdout",
     "output_type": "stream",
     "text": [
      "Training until validation scores don't improve for 100 rounds\n",
      "[50]\tvalid_0's l2: 2.23165e+11\n",
      "[100]\tvalid_0's l2: 2.42769e+11\n",
      "Did not meet early stopping. Best iteration is:\n",
      "[5]\tvalid_0's l2: 1.79325e+11\n",
      "X3_y \n",
      "\n",
      "------------------------------ train\n",
      "444544.69655\n",
      "------------------------------ test\n",
      "423468.0212\n"
     ]
    },
    {
     "name": "stderr",
     "output_type": "stream",
     "text": [
      "D:\\ProgramData\\Anaconda3\\lib\\site-packages\\lightgbm\\basic.py:1286: UserWarning: Overriding the parameters from Reference Dataset.\n",
      "  warnings.warn('Overriding the parameters from Reference Dataset.')\n",
      "D:\\ProgramData\\Anaconda3\\lib\\site-packages\\lightgbm\\basic.py:1098: UserWarning: categorical_column in param dict is overridden.\n",
      "  warnings.warn('{} in param dict is overridden.'.format(cat_alias))\n"
     ]
    },
    {
     "name": "stdout",
     "output_type": "stream",
     "text": [
      "Training until validation scores don't improve for 100 rounds\n",
      "[50]\tvalid_0's l2: 1.78282e+11\n",
      "[100]\tvalid_0's l2: 1.64758e+11\n",
      "Did not meet early stopping. Best iteration is:\n",
      "[100]\tvalid_0's l2: 1.64758e+11\n",
      "X4_fir_y \n",
      "\n",
      "------------------------------ train\n",
      "399588.61185\n",
      "------------------------------ test\n",
      "405903.60884\n"
     ]
    },
    {
     "name": "stderr",
     "output_type": "stream",
     "text": [
      "D:\\ProgramData\\Anaconda3\\lib\\site-packages\\lightgbm\\basic.py:1286: UserWarning: Overriding the parameters from Reference Dataset.\n",
      "  warnings.warn('Overriding the parameters from Reference Dataset.')\n",
      "D:\\ProgramData\\Anaconda3\\lib\\site-packages\\lightgbm\\basic.py:1098: UserWarning: categorical_column in param dict is overridden.\n",
      "  warnings.warn('{} in param dict is overridden.'.format(cat_alias))\n"
     ]
    },
    {
     "name": "stdout",
     "output_type": "stream",
     "text": [
      "Training until validation scores don't improve for 100 rounds\n",
      "[50]\tvalid_0's l2: 5.69641e+11\n",
      "[100]\tvalid_0's l2: 4.57336e+11\n",
      "Did not meet early stopping. Best iteration is:\n",
      "[4]\tvalid_0's l2: 4.50325e+11\n",
      "X4_sec_y \n",
      "\n",
      "------------------------------ train\n",
      "672656.05433\n",
      "------------------------------ test\n",
      "671062.87726\n"
     ]
    },
    {
     "name": "stderr",
     "output_type": "stream",
     "text": [
      "D:\\ProgramData\\Anaconda3\\lib\\site-packages\\lightgbm\\basic.py:1286: UserWarning: Overriding the parameters from Reference Dataset.\n",
      "  warnings.warn('Overriding the parameters from Reference Dataset.')\n",
      "D:\\ProgramData\\Anaconda3\\lib\\site-packages\\lightgbm\\basic.py:1098: UserWarning: categorical_column in param dict is overridden.\n",
      "  warnings.warn('{} in param dict is overridden.'.format(cat_alias))\n"
     ]
    },
    {
     "name": "stdout",
     "output_type": "stream",
     "text": [
      "Training until validation scores don't improve for 100 rounds\n",
      "[50]\tvalid_0's l2: 7.26622e+11\n",
      "[100]\tvalid_0's l2: 6.75405e+11\n",
      "Did not meet early stopping. Best iteration is:\n",
      "[3]\tvalid_0's l2: 4.41277e+11\n",
      "X4_y \n",
      "\n",
      "------------------------------ train\n",
      "661496.76107\n",
      "------------------------------ test\n",
      "664287.15203\n"
     ]
    },
    {
     "name": "stderr",
     "output_type": "stream",
     "text": [
      "D:\\ProgramData\\Anaconda3\\lib\\site-packages\\lightgbm\\basic.py:1286: UserWarning: Overriding the parameters from Reference Dataset.\n",
      "  warnings.warn('Overriding the parameters from Reference Dataset.')\n",
      "D:\\ProgramData\\Anaconda3\\lib\\site-packages\\lightgbm\\basic.py:1098: UserWarning: categorical_column in param dict is overridden.\n",
      "  warnings.warn('{} in param dict is overridden.'.format(cat_alias))\n"
     ]
    },
    {
     "name": "stdout",
     "output_type": "stream",
     "text": [
      "Training until validation scores don't improve for 100 rounds\n",
      "[50]\tvalid_0's l2: 2.16056e+09\n",
      "[100]\tvalid_0's l2: 2.22772e+09\n",
      "Did not meet early stopping. Best iteration is:\n",
      "[2]\tvalid_0's l2: 7.89196e+08\n",
      "X5_fir_y \n",
      "\n",
      "------------------------------ train\n",
      "33762.06307\n",
      "------------------------------ test\n",
      "28092.63223\n"
     ]
    },
    {
     "name": "stderr",
     "output_type": "stream",
     "text": [
      "D:\\ProgramData\\Anaconda3\\lib\\site-packages\\lightgbm\\basic.py:1286: UserWarning: Overriding the parameters from Reference Dataset.\n",
      "  warnings.warn('Overriding the parameters from Reference Dataset.')\n",
      "D:\\ProgramData\\Anaconda3\\lib\\site-packages\\lightgbm\\basic.py:1098: UserWarning: categorical_column in param dict is overridden.\n",
      "  warnings.warn('{} in param dict is overridden.'.format(cat_alias))\n"
     ]
    },
    {
     "name": "stdout",
     "output_type": "stream",
     "text": [
      "Training until validation scores don't improve for 100 rounds\n",
      "[50]\tvalid_0's l2: 2.07799e+09\n",
      "[100]\tvalid_0's l2: 2.24612e+09\n",
      "Did not meet early stopping. Best iteration is:\n",
      "[1]\tvalid_0's l2: 8.47717e+08\n",
      "X5_sec_y \n",
      "\n",
      "------------------------------ train\n",
      "31896.52544\n",
      "------------------------------ test\n",
      "29115.58056\n"
     ]
    },
    {
     "name": "stderr",
     "output_type": "stream",
     "text": [
      "D:\\ProgramData\\Anaconda3\\lib\\site-packages\\lightgbm\\basic.py:1286: UserWarning: Overriding the parameters from Reference Dataset.\n",
      "  warnings.warn('Overriding the parameters from Reference Dataset.')\n",
      "D:\\ProgramData\\Anaconda3\\lib\\site-packages\\lightgbm\\basic.py:1098: UserWarning: categorical_column in param dict is overridden.\n",
      "  warnings.warn('{} in param dict is overridden.'.format(cat_alias))\n"
     ]
    },
    {
     "name": "stdout",
     "output_type": "stream",
     "text": [
      "Training until validation scores don't improve for 100 rounds\n",
      "[50]\tvalid_0's l2: 2.94933e+10\n",
      "[100]\tvalid_0's l2: 2.93976e+10\n",
      "Did not meet early stopping. Best iteration is:\n",
      "[1]\tvalid_0's l2: 1.57666e+09\n",
      "X5_y \n",
      "\n",
      "------------------------------ train\n",
      "56957.98946\n",
      "------------------------------ test\n",
      "39707.18405\n"
     ]
    },
    {
     "name": "stderr",
     "output_type": "stream",
     "text": [
      "D:\\ProgramData\\Anaconda3\\lib\\site-packages\\lightgbm\\basic.py:1286: UserWarning: Overriding the parameters from Reference Dataset.\n",
      "  warnings.warn('Overriding the parameters from Reference Dataset.')\n",
      "D:\\ProgramData\\Anaconda3\\lib\\site-packages\\lightgbm\\basic.py:1098: UserWarning: categorical_column in param dict is overridden.\n",
      "  warnings.warn('{} in param dict is overridden.'.format(cat_alias))\n"
     ]
    },
    {
     "name": "stdout",
     "output_type": "stream",
     "text": [
      "Training until validation scores don't improve for 100 rounds\n",
      "[50]\tvalid_0's l2: 3.29445e+10\n",
      "[100]\tvalid_0's l2: 3.27511e+10\n",
      "Did not meet early stopping. Best iteration is:\n",
      "[2]\tvalid_0's l2: 1.57068e+10\n",
      "X6_fir_y \n",
      "\n",
      "------------------------------ train\n",
      "120212.99507\n",
      "------------------------------ test\n",
      "125326.64226\n"
     ]
    },
    {
     "name": "stderr",
     "output_type": "stream",
     "text": [
      "D:\\ProgramData\\Anaconda3\\lib\\site-packages\\lightgbm\\basic.py:1286: UserWarning: Overriding the parameters from Reference Dataset.\n",
      "  warnings.warn('Overriding the parameters from Reference Dataset.')\n",
      "D:\\ProgramData\\Anaconda3\\lib\\site-packages\\lightgbm\\basic.py:1098: UserWarning: categorical_column in param dict is overridden.\n",
      "  warnings.warn('{} in param dict is overridden.'.format(cat_alias))\n"
     ]
    },
    {
     "name": "stdout",
     "output_type": "stream",
     "text": [
      "Training until validation scores don't improve for 100 rounds\n",
      "[50]\tvalid_0's l2: 1.18161e+10\n",
      "[100]\tvalid_0's l2: 1.17938e+10\n",
      "Did not meet early stopping. Best iteration is:\n",
      "[11]\tvalid_0's l2: 1.04305e+10\n",
      "X6_sec_y \n",
      "\n",
      "------------------------------ train\n",
      "92935.29429\n",
      "------------------------------ test\n",
      "102130.05718\n"
     ]
    },
    {
     "name": "stderr",
     "output_type": "stream",
     "text": [
      "D:\\ProgramData\\Anaconda3\\lib\\site-packages\\lightgbm\\basic.py:1286: UserWarning: Overriding the parameters from Reference Dataset.\n",
      "  warnings.warn('Overriding the parameters from Reference Dataset.')\n",
      "D:\\ProgramData\\Anaconda3\\lib\\site-packages\\lightgbm\\basic.py:1098: UserWarning: categorical_column in param dict is overridden.\n",
      "  warnings.warn('{} in param dict is overridden.'.format(cat_alias))\n"
     ]
    },
    {
     "name": "stdout",
     "output_type": "stream",
     "text": [
      "Training until validation scores don't improve for 100 rounds\n",
      "[50]\tvalid_0's l2: 4.81334e+10\n",
      "[100]\tvalid_0's l2: 4.836e+10\n",
      "Did not meet early stopping. Best iteration is:\n",
      "[1]\tvalid_0's l2: 1.66976e+10\n",
      "X6_y \n",
      "\n",
      "------------------------------ train\n",
      "137856.07562\n",
      "------------------------------ test\n",
      "129219.37292\n"
     ]
    },
    {
     "name": "stderr",
     "output_type": "stream",
     "text": [
      "D:\\ProgramData\\Anaconda3\\lib\\site-packages\\lightgbm\\basic.py:1286: UserWarning: Overriding the parameters from Reference Dataset.\n",
      "  warnings.warn('Overriding the parameters from Reference Dataset.')\n",
      "D:\\ProgramData\\Anaconda3\\lib\\site-packages\\lightgbm\\basic.py:1098: UserWarning: categorical_column in param dict is overridden.\n",
      "  warnings.warn('{} in param dict is overridden.'.format(cat_alias))\n"
     ]
    },
    {
     "name": "stdout",
     "output_type": "stream",
     "text": [
      "Training until validation scores don't improve for 100 rounds\n",
      "[50]\tvalid_0's l2: 2.15243e+12\n",
      "[100]\tvalid_0's l2: 1.93464e+12\n",
      "Did not meet early stopping. Best iteration is:\n",
      "[100]\tvalid_0's l2: 1.93464e+12\n",
      "X7_fir_y \n",
      "\n",
      "------------------------------ train\n",
      "1403595.16647\n",
      "------------------------------ test\n",
      "1390914.57365\n"
     ]
    },
    {
     "name": "stderr",
     "output_type": "stream",
     "text": [
      "D:\\ProgramData\\Anaconda3\\lib\\site-packages\\lightgbm\\basic.py:1286: UserWarning: Overriding the parameters from Reference Dataset.\n",
      "  warnings.warn('Overriding the parameters from Reference Dataset.')\n",
      "D:\\ProgramData\\Anaconda3\\lib\\site-packages\\lightgbm\\basic.py:1098: UserWarning: categorical_column in param dict is overridden.\n",
      "  warnings.warn('{} in param dict is overridden.'.format(cat_alias))\n"
     ]
    },
    {
     "name": "stdout",
     "output_type": "stream",
     "text": [
      "Training until validation scores don't improve for 100 rounds\n",
      "[50]\tvalid_0's l2: 3.0545e+12\n",
      "[100]\tvalid_0's l2: 2.69059e+12\n",
      "Did not meet early stopping. Best iteration is:\n",
      "[100]\tvalid_0's l2: 2.69059e+12\n",
      "X7_sec_y \n",
      "\n",
      "------------------------------ train\n",
      "1641718.65374\n",
      "------------------------------ test\n",
      "1640300.58362\n"
     ]
    },
    {
     "name": "stderr",
     "output_type": "stream",
     "text": [
      "D:\\ProgramData\\Anaconda3\\lib\\site-packages\\lightgbm\\basic.py:1286: UserWarning: Overriding the parameters from Reference Dataset.\n",
      "  warnings.warn('Overriding the parameters from Reference Dataset.')\n",
      "D:\\ProgramData\\Anaconda3\\lib\\site-packages\\lightgbm\\basic.py:1098: UserWarning: categorical_column in param dict is overridden.\n",
      "  warnings.warn('{} in param dict is overridden.'.format(cat_alias))\n"
     ]
    },
    {
     "name": "stdout",
     "output_type": "stream",
     "text": [
      "Training until validation scores don't improve for 100 rounds\n",
      "[50]\tvalid_0's l2: 4.15599e+12\n",
      "[100]\tvalid_0's l2: 3.71265e+12\n",
      "Did not meet early stopping. Best iteration is:\n",
      "[100]\tvalid_0's l2: 3.71265e+12\n",
      "X7_y \n",
      "\n",
      "------------------------------ train\n",
      "1935919.15607\n",
      "------------------------------ test\n",
      "1926824.18578\n"
     ]
    },
    {
     "name": "stderr",
     "output_type": "stream",
     "text": [
      "D:\\ProgramData\\Anaconda3\\lib\\site-packages\\lightgbm\\basic.py:1286: UserWarning: Overriding the parameters from Reference Dataset.\n",
      "  warnings.warn('Overriding the parameters from Reference Dataset.')\n",
      "D:\\ProgramData\\Anaconda3\\lib\\site-packages\\lightgbm\\basic.py:1098: UserWarning: categorical_column in param dict is overridden.\n",
      "  warnings.warn('{} in param dict is overridden.'.format(cat_alias))\n"
     ]
    },
    {
     "name": "stdout",
     "output_type": "stream",
     "text": [
      "Training until validation scores don't improve for 100 rounds\n",
      "[50]\tvalid_0's l2: 4.03877e+11\n",
      "[100]\tvalid_0's l2: 2.78447e+11\n",
      "Did not meet early stopping. Best iteration is:\n",
      "[100]\tvalid_0's l2: 2.78447e+11\n",
      "X8_fir_y \n",
      "\n",
      "------------------------------ train\n",
      "529045.24318\n",
      "------------------------------ test\n",
      "527680.55406\n"
     ]
    },
    {
     "name": "stderr",
     "output_type": "stream",
     "text": [
      "D:\\ProgramData\\Anaconda3\\lib\\site-packages\\lightgbm\\basic.py:1286: UserWarning: Overriding the parameters from Reference Dataset.\n",
      "  warnings.warn('Overriding the parameters from Reference Dataset.')\n",
      "D:\\ProgramData\\Anaconda3\\lib\\site-packages\\lightgbm\\basic.py:1098: UserWarning: categorical_column in param dict is overridden.\n",
      "  warnings.warn('{} in param dict is overridden.'.format(cat_alias))\n"
     ]
    },
    {
     "name": "stdout",
     "output_type": "stream",
     "text": [
      "Training until validation scores don't improve for 100 rounds\n",
      "[50]\tvalid_0's l2: 5.97559e+11\n",
      "[100]\tvalid_0's l2: 4.46914e+11\n",
      "Did not meet early stopping. Best iteration is:\n",
      "[99]\tvalid_0's l2: 4.46739e+11\n",
      "X8_sec_y \n",
      "\n",
      "------------------------------ train\n",
      "662206.8861\n",
      "------------------------------ test\n",
      "668385.40302\n"
     ]
    },
    {
     "name": "stderr",
     "output_type": "stream",
     "text": [
      "D:\\ProgramData\\Anaconda3\\lib\\site-packages\\lightgbm\\basic.py:1286: UserWarning: Overriding the parameters from Reference Dataset.\n",
      "  warnings.warn('Overriding the parameters from Reference Dataset.')\n",
      "D:\\ProgramData\\Anaconda3\\lib\\site-packages\\lightgbm\\basic.py:1098: UserWarning: categorical_column in param dict is overridden.\n",
      "  warnings.warn('{} in param dict is overridden.'.format(cat_alias))\n"
     ]
    },
    {
     "name": "stdout",
     "output_type": "stream",
     "text": [
      "Training until validation scores don't improve for 100 rounds\n",
      "[50]\tvalid_0's l2: 1.10872e+12\n",
      "[100]\tvalid_0's l2: 9.14867e+11\n",
      "Did not meet early stopping. Best iteration is:\n",
      "[100]\tvalid_0's l2: 9.14867e+11\n",
      "X8_y \n",
      "\n",
      "------------------------------ train\n",
      "941505.99806\n",
      "------------------------------ test\n",
      "956487.018\n"
     ]
    },
    {
     "name": "stderr",
     "output_type": "stream",
     "text": [
      "D:\\ProgramData\\Anaconda3\\lib\\site-packages\\lightgbm\\basic.py:1286: UserWarning: Overriding the parameters from Reference Dataset.\n",
      "  warnings.warn('Overriding the parameters from Reference Dataset.')\n",
      "D:\\ProgramData\\Anaconda3\\lib\\site-packages\\lightgbm\\basic.py:1098: UserWarning: categorical_column in param dict is overridden.\n",
      "  warnings.warn('{} in param dict is overridden.'.format(cat_alias))\n"
     ]
    },
    {
     "name": "stdout",
     "output_type": "stream",
     "text": [
      "Training until validation scores don't improve for 100 rounds\n",
      "[50]\tvalid_0's l2: 0.609916\n",
      "[100]\tvalid_0's l2: 0.599459\n",
      "Did not meet early stopping. Best iteration is:\n",
      "[100]\tvalid_0's l2: 0.599459\n",
      "label_y \n",
      "\n",
      "------------------------------ train\n",
      "0.73689\n",
      "------------------------------ test\n",
      "0.77425\n"
     ]
    }
   ],
   "source": [
    "# 回归预测各特征变量；\n",
    "result_df = train_df2.loc[:, ['cust_no','cust_q']]\n",
    "train_df2.drop(drop_list,axis=1,inplace=True)\n",
    "for var_name in train_df2.loc[:,train_df2.columns.str.contains('_y$')].columns.drop(['cust_q_y','valid_y']):\n",
    "    try:\n",
    "        data_train(train_df2, result_df, var_name, ['I1','I3','I5','I8','I10','I13','I14'], ['cust_no','cust_q','valid','label'])\n",
    "    except Exception as e:\n",
    "        print(e)\n",
    "        continue\n",
    "result_df.to_pickle('./data/all_regss_features_v1.pkl')\n",
    "    \n",
    "    \n",
    "\n",
    "    \n",
    "    \n",
    "    \n",
    "    \n",
    "    "
   ]
  },
  {
   "cell_type": "code",
   "execution_count": 21,
   "metadata": {},
   "outputs": [
    {
     "data": {
      "text/html": [
       "<div>\n",
       "<style scoped>\n",
       "    .dataframe tbody tr th:only-of-type {\n",
       "        vertical-align: middle;\n",
       "    }\n",
       "\n",
       "    .dataframe tbody tr th {\n",
       "        vertical-align: top;\n",
       "    }\n",
       "\n",
       "    .dataframe thead th {\n",
       "        text-align: right;\n",
       "    }\n",
       "</style>\n",
       "<table border=\"1\" class=\"dataframe\">\n",
       "  <thead>\n",
       "    <tr style=\"text-align: right;\">\n",
       "      <th></th>\n",
       "      <th>cust_no</th>\n",
       "      <th>cust_q</th>\n",
       "      <th>pred_B1_fir_y</th>\n",
       "      <th>pred_B1_sec_y</th>\n",
       "      <th>pred_B1_y</th>\n",
       "      <th>pred_B2_fir_y</th>\n",
       "      <th>pred_B2_sec_y</th>\n",
       "      <th>pred_B2_y</th>\n",
       "      <th>pred_B3_fir_y</th>\n",
       "      <th>pred_B3_sec_y</th>\n",
       "      <th>...</th>\n",
       "      <th>pred_X6_fir_y</th>\n",
       "      <th>pred_X6_sec_y</th>\n",
       "      <th>pred_X6_y</th>\n",
       "      <th>pred_X7_fir_y</th>\n",
       "      <th>pred_X7_sec_y</th>\n",
       "      <th>pred_X7_y</th>\n",
       "      <th>pred_X8_fir_y</th>\n",
       "      <th>pred_X8_sec_y</th>\n",
       "      <th>pred_X8_y</th>\n",
       "      <th>pred_label_y</th>\n",
       "    </tr>\n",
       "  </thead>\n",
       "  <tbody>\n",
       "    <tr>\n",
       "      <th>3</th>\n",
       "      <td>0x3b9acb2b</td>\n",
       "      <td>q30x3b9acb2b</td>\n",
       "      <td>3.991641</td>\n",
       "      <td>7.869153</td>\n",
       "      <td>11.421230</td>\n",
       "      <td>3.699205</td>\n",
       "      <td>-3.637694</td>\n",
       "      <td>6.430688</td>\n",
       "      <td>593462.757464</td>\n",
       "      <td>569688.332705</td>\n",
       "      <td>...</td>\n",
       "      <td>89948.281886</td>\n",
       "      <td>50636.05833</td>\n",
       "      <td>106886.856527</td>\n",
       "      <td>9.768966e+05</td>\n",
       "      <td>9.846634e+05</td>\n",
       "      <td>9.692336e+05</td>\n",
       "      <td>479569.955765</td>\n",
       "      <td>391870.221833</td>\n",
       "      <td>626093.795679</td>\n",
       "      <td>0.272402</td>\n",
       "    </tr>\n",
       "    <tr>\n",
       "      <th>12</th>\n",
       "      <td>0x3b9acc6c</td>\n",
       "      <td>q30x3b9acc6c</td>\n",
       "      <td>7.797056</td>\n",
       "      <td>0.970903</td>\n",
       "      <td>12.567592</td>\n",
       "      <td>-0.123236</td>\n",
       "      <td>-9.130609</td>\n",
       "      <td>-9.967883</td>\n",
       "      <td>539455.786571</td>\n",
       "      <td>569688.332705</td>\n",
       "      <td>...</td>\n",
       "      <td>89948.281886</td>\n",
       "      <td>50636.05833</td>\n",
       "      <td>106886.856527</td>\n",
       "      <td>4.647051e+06</td>\n",
       "      <td>1.955709e+06</td>\n",
       "      <td>3.203140e+06</td>\n",
       "      <td>502478.446647</td>\n",
       "      <td>467665.868385</td>\n",
       "      <td>653798.151050</td>\n",
       "      <td>0.687818</td>\n",
       "    </tr>\n",
       "    <tr>\n",
       "      <th>20</th>\n",
       "      <td>0x3b9acc87</td>\n",
       "      <td>q30x3b9acc87</td>\n",
       "      <td>6.354636</td>\n",
       "      <td>13.011314</td>\n",
       "      <td>22.704454</td>\n",
       "      <td>5.239021</td>\n",
       "      <td>1.347244</td>\n",
       "      <td>13.313368</td>\n",
       "      <td>539455.786571</td>\n",
       "      <td>569688.332705</td>\n",
       "      <td>...</td>\n",
       "      <td>89948.281886</td>\n",
       "      <td>50636.05833</td>\n",
       "      <td>106886.856527</td>\n",
       "      <td>7.869048e+05</td>\n",
       "      <td>1.211395e+06</td>\n",
       "      <td>2.869117e+06</td>\n",
       "      <td>267479.827763</td>\n",
       "      <td>263246.547008</td>\n",
       "      <td>369349.175636</td>\n",
       "      <td>-0.117612</td>\n",
       "    </tr>\n",
       "    <tr>\n",
       "      <th>26</th>\n",
       "      <td>0x3b9acca4</td>\n",
       "      <td>q30x3b9acca4</td>\n",
       "      <td>5.124919</td>\n",
       "      <td>1.773302</td>\n",
       "      <td>23.347812</td>\n",
       "      <td>2.212429</td>\n",
       "      <td>-16.851508</td>\n",
       "      <td>13.733721</td>\n",
       "      <td>539455.786571</td>\n",
       "      <td>569688.332705</td>\n",
       "      <td>...</td>\n",
       "      <td>89948.281886</td>\n",
       "      <td>50636.05833</td>\n",
       "      <td>106886.856527</td>\n",
       "      <td>8.757881e+05</td>\n",
       "      <td>8.617939e+05</td>\n",
       "      <td>3.598345e+06</td>\n",
       "      <td>164494.358936</td>\n",
       "      <td>206929.834057</td>\n",
       "      <td>474229.536406</td>\n",
       "      <td>0.306030</td>\n",
       "    </tr>\n",
       "    <tr>\n",
       "      <th>35</th>\n",
       "      <td>0x3b9accb7</td>\n",
       "      <td>q30x3b9accb7</td>\n",
       "      <td>6.067408</td>\n",
       "      <td>1.081519</td>\n",
       "      <td>12.825306</td>\n",
       "      <td>-6.328761</td>\n",
       "      <td>6.915839</td>\n",
       "      <td>10.720769</td>\n",
       "      <td>539455.786571</td>\n",
       "      <td>569688.332705</td>\n",
       "      <td>...</td>\n",
       "      <td>89948.281886</td>\n",
       "      <td>50636.05833</td>\n",
       "      <td>106886.856527</td>\n",
       "      <td>4.320868e+06</td>\n",
       "      <td>2.078440e+06</td>\n",
       "      <td>3.731413e+06</td>\n",
       "      <td>111606.908148</td>\n",
       "      <td>208676.477708</td>\n",
       "      <td>200483.520988</td>\n",
       "      <td>0.732253</td>\n",
       "    </tr>\n",
       "  </tbody>\n",
       "</table>\n",
       "<p>5 rows × 62 columns</p>\n",
       "</div>"
      ],
      "text/plain": [
       "       cust_no        cust_q  pred_B1_fir_y  pred_B1_sec_y  pred_B1_y  \\\n",
       "3   0x3b9acb2b  q30x3b9acb2b       3.991641       7.869153  11.421230   \n",
       "12  0x3b9acc6c  q30x3b9acc6c       7.797056       0.970903  12.567592   \n",
       "20  0x3b9acc87  q30x3b9acc87       6.354636      13.011314  22.704454   \n",
       "26  0x3b9acca4  q30x3b9acca4       5.124919       1.773302  23.347812   \n",
       "35  0x3b9accb7  q30x3b9accb7       6.067408       1.081519  12.825306   \n",
       "\n",
       "    pred_B2_fir_y  pred_B2_sec_y  pred_B2_y  pred_B3_fir_y  pred_B3_sec_y  \\\n",
       "3        3.699205      -3.637694   6.430688  593462.757464  569688.332705   \n",
       "12      -0.123236      -9.130609  -9.967883  539455.786571  569688.332705   \n",
       "20       5.239021       1.347244  13.313368  539455.786571  569688.332705   \n",
       "26       2.212429     -16.851508  13.733721  539455.786571  569688.332705   \n",
       "35      -6.328761       6.915839  10.720769  539455.786571  569688.332705   \n",
       "\n",
       "    ...  pred_X6_fir_y  pred_X6_sec_y      pred_X6_y  pred_X7_fir_y  \\\n",
       "3   ...   89948.281886    50636.05833  106886.856527   9.768966e+05   \n",
       "12  ...   89948.281886    50636.05833  106886.856527   4.647051e+06   \n",
       "20  ...   89948.281886    50636.05833  106886.856527   7.869048e+05   \n",
       "26  ...   89948.281886    50636.05833  106886.856527   8.757881e+05   \n",
       "35  ...   89948.281886    50636.05833  106886.856527   4.320868e+06   \n",
       "\n",
       "    pred_X7_sec_y     pred_X7_y  pred_X8_fir_y  pred_X8_sec_y      pred_X8_y  \\\n",
       "3    9.846634e+05  9.692336e+05  479569.955765  391870.221833  626093.795679   \n",
       "12   1.955709e+06  3.203140e+06  502478.446647  467665.868385  653798.151050   \n",
       "20   1.211395e+06  2.869117e+06  267479.827763  263246.547008  369349.175636   \n",
       "26   8.617939e+05  3.598345e+06  164494.358936  206929.834057  474229.536406   \n",
       "35   2.078440e+06  3.731413e+06  111606.908148  208676.477708  200483.520988   \n",
       "\n",
       "    pred_label_y  \n",
       "3       0.272402  \n",
       "12      0.687818  \n",
       "20     -0.117612  \n",
       "26      0.306030  \n",
       "35      0.732253  \n",
       "\n",
       "[5 rows x 62 columns]"
      ]
     },
     "execution_count": 21,
     "metadata": {},
     "output_type": "execute_result"
    }
   ],
   "source": [
    "result_df.head()"
   ]
  },
  {
   "cell_type": "code",
   "execution_count": 23,
   "metadata": {},
   "outputs": [
    {
     "data": {
      "text/html": [
       "<div>\n",
       "<style scoped>\n",
       "    .dataframe tbody tr th:only-of-type {\n",
       "        vertical-align: middle;\n",
       "    }\n",
       "\n",
       "    .dataframe tbody tr th {\n",
       "        vertical-align: top;\n",
       "    }\n",
       "\n",
       "    .dataframe thead th {\n",
       "        text-align: right;\n",
       "    }\n",
       "</style>\n",
       "<table border=\"1\" class=\"dataframe\">\n",
       "  <thead>\n",
       "    <tr style=\"text-align: right;\">\n",
       "      <th></th>\n",
       "      <th>B1</th>\n",
       "      <th>B1_fir</th>\n",
       "      <th>B1_fir_y</th>\n",
       "      <th>B1_sec</th>\n",
       "      <th>B1_sec_y</th>\n",
       "      <th>B1_y</th>\n",
       "      <th>B2</th>\n",
       "      <th>B2_fir</th>\n",
       "      <th>B2_fir_y</th>\n",
       "      <th>B2_sec</th>\n",
       "      <th>...</th>\n",
       "      <th>E14_dayofweek</th>\n",
       "      <th>E16_kaiinterval</th>\n",
       "      <th>E16_interval</th>\n",
       "      <th>E16_dayofweek</th>\n",
       "      <th>E18_kaiinterval</th>\n",
       "      <th>E18_interval</th>\n",
       "      <th>E18_dayofweek</th>\n",
       "      <th>E15_reduce_E17</th>\n",
       "      <th>E15_ratio</th>\n",
       "      <th>E17_ratio</th>\n",
       "    </tr>\n",
       "  </thead>\n",
       "  <tbody>\n",
       "    <tr>\n",
       "      <th>3</th>\n",
       "      <td>5.0</td>\n",
       "      <td>1.0</td>\n",
       "      <td>4.0</td>\n",
       "      <td>3.0</td>\n",
       "      <td>1.0</td>\n",
       "      <td>4.0</td>\n",
       "      <td>2.0</td>\n",
       "      <td>2.0</td>\n",
       "      <td>3.0</td>\n",
       "      <td>2.0</td>\n",
       "      <td>...</td>\n",
       "      <td>NaN</td>\n",
       "      <td>NaN</td>\n",
       "      <td>NaN</td>\n",
       "      <td>NaN</td>\n",
       "      <td>5281.0</td>\n",
       "      <td>-1180.0</td>\n",
       "      <td>4.0</td>\n",
       "      <td>-12500.00</td>\n",
       "      <td>0.0</td>\n",
       "      <td>0.358544</td>\n",
       "    </tr>\n",
       "    <tr>\n",
       "      <th>12</th>\n",
       "      <td>0.0</td>\n",
       "      <td>0.0</td>\n",
       "      <td>0.0</td>\n",
       "      <td>0.0</td>\n",
       "      <td>0.0</td>\n",
       "      <td>0.0</td>\n",
       "      <td>0.0</td>\n",
       "      <td>0.0</td>\n",
       "      <td>0.0</td>\n",
       "      <td>0.0</td>\n",
       "      <td>...</td>\n",
       "      <td>5.0</td>\n",
       "      <td>NaN</td>\n",
       "      <td>NaN</td>\n",
       "      <td>NaN</td>\n",
       "      <td>4928.0</td>\n",
       "      <td>-1114.0</td>\n",
       "      <td>0.0</td>\n",
       "      <td>-50000.00</td>\n",
       "      <td>NaN</td>\n",
       "      <td>inf</td>\n",
       "    </tr>\n",
       "    <tr>\n",
       "      <th>20</th>\n",
       "      <td>0.0</td>\n",
       "      <td>0.0</td>\n",
       "      <td>1.0</td>\n",
       "      <td>0.0</td>\n",
       "      <td>0.0</td>\n",
       "      <td>0.0</td>\n",
       "      <td>0.0</td>\n",
       "      <td>0.0</td>\n",
       "      <td>1.0</td>\n",
       "      <td>0.0</td>\n",
       "      <td>...</td>\n",
       "      <td>NaN</td>\n",
       "      <td>NaN</td>\n",
       "      <td>NaN</td>\n",
       "      <td>NaN</td>\n",
       "      <td>NaN</td>\n",
       "      <td>NaN</td>\n",
       "      <td>NaN</td>\n",
       "      <td>0.00</td>\n",
       "      <td>NaN</td>\n",
       "      <td>NaN</td>\n",
       "    </tr>\n",
       "    <tr>\n",
       "      <th>26</th>\n",
       "      <td>0.0</td>\n",
       "      <td>0.0</td>\n",
       "      <td>0.0</td>\n",
       "      <td>0.0</td>\n",
       "      <td>0.0</td>\n",
       "      <td>0.0</td>\n",
       "      <td>0.0</td>\n",
       "      <td>0.0</td>\n",
       "      <td>0.0</td>\n",
       "      <td>0.0</td>\n",
       "      <td>...</td>\n",
       "      <td>NaN</td>\n",
       "      <td>NaN</td>\n",
       "      <td>NaN</td>\n",
       "      <td>NaN</td>\n",
       "      <td>NaN</td>\n",
       "      <td>NaN</td>\n",
       "      <td>NaN</td>\n",
       "      <td>-675.00</td>\n",
       "      <td>NaN</td>\n",
       "      <td>inf</td>\n",
       "    </tr>\n",
       "    <tr>\n",
       "      <th>35</th>\n",
       "      <td>0.0</td>\n",
       "      <td>0.0</td>\n",
       "      <td>0.0</td>\n",
       "      <td>0.0</td>\n",
       "      <td>0.0</td>\n",
       "      <td>0.0</td>\n",
       "      <td>0.0</td>\n",
       "      <td>0.0</td>\n",
       "      <td>0.0</td>\n",
       "      <td>0.0</td>\n",
       "      <td>...</td>\n",
       "      <td>NaN</td>\n",
       "      <td>NaN</td>\n",
       "      <td>NaN</td>\n",
       "      <td>NaN</td>\n",
       "      <td>4656.0</td>\n",
       "      <td>-1314.0</td>\n",
       "      <td>3.0</td>\n",
       "      <td>-60202.39</td>\n",
       "      <td>NaN</td>\n",
       "      <td>inf</td>\n",
       "    </tr>\n",
       "  </tbody>\n",
       "</table>\n",
       "<p>5 rows × 294 columns</p>\n",
       "</div>"
      ],
      "text/plain": [
       "     B1  B1_fir  B1_fir_y  B1_sec  B1_sec_y  B1_y   B2  B2_fir  B2_fir_y  \\\n",
       "3   5.0     1.0       4.0     3.0       1.0   4.0  2.0     2.0       3.0   \n",
       "12  0.0     0.0       0.0     0.0       0.0   0.0  0.0     0.0       0.0   \n",
       "20  0.0     0.0       1.0     0.0       0.0   0.0  0.0     0.0       1.0   \n",
       "26  0.0     0.0       0.0     0.0       0.0   0.0  0.0     0.0       0.0   \n",
       "35  0.0     0.0       0.0     0.0       0.0   0.0  0.0     0.0       0.0   \n",
       "\n",
       "    B2_sec  ...  E14_dayofweek  E16_kaiinterval  E16_interval  E16_dayofweek  \\\n",
       "3      2.0  ...            NaN              NaN           NaN            NaN   \n",
       "12     0.0  ...            5.0              NaN           NaN            NaN   \n",
       "20     0.0  ...            NaN              NaN           NaN            NaN   \n",
       "26     0.0  ...            NaN              NaN           NaN            NaN   \n",
       "35     0.0  ...            NaN              NaN           NaN            NaN   \n",
       "\n",
       "    E18_kaiinterval  E18_interval  E18_dayofweek  E15_reduce_E17  E15_ratio  \\\n",
       "3            5281.0       -1180.0            4.0       -12500.00        0.0   \n",
       "12           4928.0       -1114.0            0.0       -50000.00        NaN   \n",
       "20              NaN           NaN            NaN            0.00        NaN   \n",
       "26              NaN           NaN            NaN         -675.00        NaN   \n",
       "35           4656.0       -1314.0            3.0       -60202.39        NaN   \n",
       "\n",
       "    E17_ratio  \n",
       "3    0.358544  \n",
       "12        inf  \n",
       "20        NaN  \n",
       "26        inf  \n",
       "35        inf  \n",
       "\n",
       "[5 rows x 294 columns]"
      ]
     },
     "execution_count": 23,
     "metadata": {},
     "output_type": "execute_result"
    }
   ],
   "source": [
    "train_df2.head()"
   ]
  },
  {
   "cell_type": "code",
   "execution_count": null,
   "metadata": {},
   "outputs": [],
   "source": []
  }
 ],
 "metadata": {
  "kernelspec": {
   "display_name": "Python 3",
   "language": "python",
   "name": "python3"
  },
  "language_info": {
   "codemirror_mode": {
    "name": "ipython",
    "version": 3
   },
   "file_extension": ".py",
   "mimetype": "text/x-python",
   "name": "python",
   "nbconvert_exporter": "python",
   "pygments_lexer": "ipython3",
   "version": "3.7.3"
  }
 },
 "nbformat": 4,
 "nbformat_minor": 2
}
