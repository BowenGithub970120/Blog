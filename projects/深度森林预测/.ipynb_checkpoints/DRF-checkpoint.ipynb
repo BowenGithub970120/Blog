{
 "cells": [
  {
   "cell_type": "code",
   "execution_count": 3,
   "id": "23bd4f9b",
   "metadata": {},
   "outputs": [
    {
     "name": "stdout",
     "output_type": "stream",
     "text": [
      "Requirement already satisfied: deep-forest in d:\\programdata\\conda\\lib\\site-packages (0.1.5)\n",
      "Requirement already satisfied: numpy<1.20.0,>=1.16.0 in d:\\programdata\\conda\\lib\\site-packages (from deep-forest) (1.19.5)\n",
      "Requirement already satisfied: scipy>=0.19.1 in d:\\programdata\\conda\\lib\\site-packages (from deep-forest) (1.4.1)\n",
      "Requirement already satisfied: scikit-learn>=0.22 in d:\\programdata\\conda\\lib\\site-packages (from deep-forest) (0.24.1)\n",
      "Requirement already satisfied: joblib>=0.11 in d:\\programdata\\conda\\lib\\site-packages (from deep-forest) (1.0.1)\n",
      "Requirement already satisfied: threadpoolctl>=2.0.0 in d:\\programdata\\conda\\lib\\site-packages (from scikit-learn>=0.22->deep-forest) (2.1.0)\n"
     ]
    }
   ],
   "source": [
    "! pip install deep-forest"
   ]
  },
  {
   "cell_type": "code",
   "execution_count": 4,
   "id": "753e75f9",
   "metadata": {},
   "outputs": [
    {
     "name": "stdout",
     "output_type": "stream",
     "text": [
      "[2021-12-14 13:45:33.225] Start to fit the model:\n",
      "[2021-12-14 13:45:33.226] Fitting cascade layer = 0 \n",
      "[2021-12-14 13:45:35.031] layer = 0  | Val MSE = 13.34540 | Elapsed = 1.805 s\n",
      "[2021-12-14 13:45:35.039] Fitting cascade layer = 1 \n",
      "[2021-12-14 13:45:36.878] layer = 1  | Val MSE = 10.88445 | Elapsed = 1.839 s\n",
      "[2021-12-14 13:45:36.885] Fitting cascade layer = 2 \n",
      "[2021-12-14 13:45:38.677] layer = 2  | Val MSE = 12.78401 | Elapsed = 1.792 s\n",
      "[2021-12-14 13:45:38.678] Early stopping counter: 1 out of 2\n",
      "[2021-12-14 13:45:38.687] Fitting cascade layer = 3 \n",
      "[2021-12-14 13:45:40.477] layer = 3  | Val MSE = 15.41706 | Elapsed = 1.790 s\n",
      "[2021-12-14 13:45:40.478] Early stopping counter: 2 out of 2\n",
      "[2021-12-14 13:45:40.478] Handling early stopping\n",
      "[2021-12-14 13:45:40.480] The optimal number of layers: 2\n",
      "[2021-12-14 13:45:40.485] Start to evalute the model:\n",
      "[2021-12-14 13:45:40.486] Evaluating cascade layer = 0 \n",
      "[2021-12-14 13:45:40.577] Evaluating cascade layer = 1 \n",
      "\n",
      "Testing MSE: 8.068\n"
     ]
    }
   ],
   "source": [
    "# 回归预测--波士顿房价\n",
    "\n",
    "\n",
    "from sklearn.datasets import load_boston\n",
    "from sklearn.model_selection import train_test_split\n",
    "from sklearn.metrics import mean_squared_error\n",
    "\n",
    "from deepforest import CascadeForestRegressor\n",
    "\n",
    "X, y = load_boston(return_X_y=True)\n",
    "X_train, X_test, y_train, y_test = train_test_split(X, y, random_state=1)\n",
    "model = CascadeForestRegressor(random_state=1)\n",
    "model.fit(X_train, y_train)\n",
    "y_pred = model.predict(X_test)\n",
    "mse = mean_squared_error(y_test, y_pred)\n",
    "print(\"\\nTesting MSE: {:.3f}\".format(mse))"
   ]
  },
  {
   "cell_type": "code",
   "execution_count": 5,
   "id": "5185ee4a",
   "metadata": {
    "scrolled": true
   },
   "outputs": [
    {
     "name": "stdout",
     "output_type": "stream",
     "text": [
      "[2021-12-14 13:47:40.723] Start to fit the model:\n",
      "[2021-12-14 13:47:40.724] Fitting cascade layer = 0 \n",
      "[2021-12-14 13:47:42.297] layer = 0  | Val Acc = 96.244 % | Elapsed = 1.573 s\n",
      "[2021-12-14 13:47:42.302] Fitting cascade layer = 1 \n",
      "[2021-12-14 13:47:43.946] layer = 1  | Val Acc = 96.948 % | Elapsed = 1.645 s\n",
      "[2021-12-14 13:47:43.950] Fitting cascade layer = 2 \n",
      "[2021-12-14 13:47:45.484] layer = 2  | Val Acc = 96.948 % | Elapsed = 1.534 s\n",
      "[2021-12-14 13:47:45.485] Early stopping counter: 1 out of 2\n",
      "[2021-12-14 13:47:45.489] Fitting cascade layer = 3 \n",
      "[2021-12-14 13:47:47.034] layer = 3  | Val Acc = 96.479 % | Elapsed = 1.545 s\n",
      "[2021-12-14 13:47:47.035] Early stopping counter: 2 out of 2\n",
      "[2021-12-14 13:47:47.035] Handling early stopping\n",
      "[2021-12-14 13:47:47.038] The optimal number of layers: 2\n",
      "[2021-12-14 13:47:47.041] Start to evalute the model:\n",
      "[2021-12-14 13:47:47.044] Evaluating cascade layer = 0 \n",
      "[2021-12-14 13:47:47.124] Evaluating cascade layer = 1 \n",
      "\n",
      "Testing Accuracy: 95.105 %\n"
     ]
    }
   ],
   "source": [
    "# 分类预测--癌细胞分类数据集\n",
    "\n",
    "from sklearn.datasets import load_breast_cancer\n",
    "from sklearn.model_selection import train_test_split\n",
    "from sklearn.metrics import accuracy_score\n",
    "\n",
    "from deepforest import CascadeForestClassifier\n",
    "\n",
    "X, y = load_breast_cancer(return_X_y=True)\n",
    "X_train, X_test, y_train, y_test = train_test_split(X, y, random_state=1)\n",
    "model = CascadeForestClassifier(random_state=1)\n",
    "model.fit(X_train, y_train)\n",
    "y_pred = model.predict(X_test)\n",
    "acc = accuracy_score(y_test, y_pred) * 100\n",
    "print(\"\\nTesting Accuracy: {:.3f} %\".format(acc))"
   ]
  },
  {
   "cell_type": "code",
   "execution_count": 7,
   "id": "fd6f6579",
   "metadata": {},
   "outputs": [],
   "source": [
    "?CascadeForestClassifier"
   ]
  },
  {
   "cell_type": "code",
   "execution_count": null,
   "id": "b33418e6",
   "metadata": {},
   "outputs": [],
   "source": []
  }
 ],
 "metadata": {
  "kernelspec": {
   "display_name": "Python 3",
   "language": "python",
   "name": "python3"
  },
  "language_info": {
   "codemirror_mode": {
    "name": "ipython",
    "version": 3
   },
   "file_extension": ".py",
   "mimetype": "text/x-python",
   "name": "python",
   "nbconvert_exporter": "python",
   "pygments_lexer": "ipython3",
   "version": "3.8.8"
  }
 },
 "nbformat": 4,
 "nbformat_minor": 5
}
