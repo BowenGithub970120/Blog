{
  "nbformat": 4,
  "nbformat_minor": 0,
  "metadata": {
    "colab": {
      "name": "tensorflow决策森林.ipynb",
      "private_outputs": true,
      "provenance": [],
      "collapsed_sections": []
    },
    "kernelspec": {
      "name": "python3",
      "display_name": "Python 3"
    },
    "language_info": {
      "name": "python"
    }
  },
  "cells": [
    {
      "cell_type": "code",
      "execution_count": null,
      "metadata": {
        "id": "ckjrPSAJAO4W"
      },
      "outputs": [],
      "source": [
        "pip install -U tensorflow_decision_forests"
      ]
    },
    {
      "cell_type": "code",
      "source": [
        "import numpy as np  \n",
        "import pandas as pd\n",
        "import matplotlib.pyplot as plt\n",
        "import tensorflow as tf\n",
        "tf.random.set_seed(123)\n",
        "\n",
        "from sklearn import datasets\n",
        "from sklearn.model_selection import train_test_split\n",
        "from sklearn.metrics import precision_score, recall_score, f1_score,roc_curve"
      ],
      "metadata": {
        "id": "kxaFuuAhAZGH"
      },
      "execution_count": null,
      "outputs": []
    },
    {
      "cell_type": "code",
      "source": [
        "dataset_cancer = datasets.load_breast_cancer()    # 加载癌细胞数据集\n",
        "\n",
        "#print(dataset_cancer['DESCR'])\n",
        "\n",
        "df = pd.DataFrame(dataset_cancer.data, columns=dataset_cancer.feature_names)  \n",
        "\n",
        "df['label'] = dataset_cancer.target\n",
        "\n",
        "print(df.shape)\n",
        "\n",
        "df.head()"
      ],
      "metadata": {
        "id": "urobRv_BBNiP"
      },
      "execution_count": null,
      "outputs": []
    },
    {
      "cell_type": "code",
      "source": [
        "\n",
        "# holdout验证法： 按3：7划分测试集 训练集\n",
        "x_train, x_test= train_test_split(df, test_size=0.3)\n",
        "\n",
        "# EDA分析：数据统计指标\n",
        "x_train.describe(include='all')"
      ],
      "metadata": {
        "id": "5YwL5JNfBvCw"
      },
      "execution_count": null,
      "outputs": []
    },
    {
      "cell_type": "code",
      "source": [
        "import tensorflow_decision_forests as tfdf\n",
        "\n",
        "\n",
        "target = \"label\"\n",
        "\n",
        "train_ds = tfdf.keras.pd_dataframe_to_tf_dataset(x_train, label=target, task=tfdf.keras.Task.CLASSIFICATION)\n",
        "test_ds = tfdf.keras.pd_dataframe_to_tf_dataset(x_test, label=target, task=tfdf.keras.Task.CLASSIFICATION)\n"
      ],
      "metadata": {
        "id": "N8LyPlMKDlEF"
      },
      "execution_count": null,
      "outputs": []
    },
    {
      "cell_type": "code",
      "source": [
        "# 模型参数\n",
        "model_tf = tfdf.keras.GradientBoostedTreesModel(loss=\"BINARY_FOCAL_LOSS\")\n",
        "\n",
        "# 模型训练\n",
        "model_tf.compile(metrics=[\"acc\"])\n",
        "model_tf.fit(x=train_ds,validation_freq=0.1)"
      ],
      "metadata": {
        "id": "gSUcQa79DrJq"
      },
      "execution_count": null,
      "outputs": []
    },
    {
      "cell_type": "code",
      "source": [
        "## 模型评估\n",
        "evaluation = model_tf.evaluate(test_ds,return_dict=True)\n",
        "probs = model_tf.predict(test_ds)\n",
        "fpr, tpr, _ = roc_curve(x_test.label, probs)\n",
        "plt.plot(fpr, tpr)\n",
        "plt.title('ROC curve')\n",
        "plt.xlabel('false positive rate')\n",
        "plt.ylabel('true positive rate')\n",
        "plt.xlim(0,)\n",
        "plt.ylim(0,)\n",
        "plt.show()\n",
        "print(evaluation)"
      ],
      "metadata": {
        "id": "vquAEauPd6Zt"
      },
      "execution_count": null,
      "outputs": []
    },
    {
      "cell_type": "code",
      "source": [
        "# 还可以输出每个样本所在的叶子节点，方便GBDT+DNN的融合\n",
        "model_tf.predict_get_leaves(test_ds)"
      ],
      "metadata": {
        "id": "nd3pos3nh80N"
      },
      "execution_count": null,
      "outputs": []
    },
    {
      "cell_type": "code",
      "source": [
        "print(model_tf.summary())"
      ],
      "metadata": {
        "id": "IRPZOvv_gMct"
      },
      "execution_count": null,
      "outputs": []
    },
    {
      "cell_type": "code",
      "execution_count": null,
      "metadata": {
        "id": "upaNWxcF3rJn"
      },
      "outputs": [],
      "source": [
        "tfdf.model_plotter.plot_model_in_colab(model_tf, tree_idx=0, max_depth=10)"
      ]
    },
    {
      "cell_type": "code",
      "source": [
        ""
      ],
      "metadata": {
        "id": "a3qmrgJ6h1ST"
      },
      "execution_count": null,
      "outputs": []
    },
    {
      "cell_type": "code",
      "source": [
        ""
      ],
      "metadata": {
        "id": "ZF3CgbdH6RLI"
      },
      "execution_count": null,
      "outputs": []
    }
  ]
}